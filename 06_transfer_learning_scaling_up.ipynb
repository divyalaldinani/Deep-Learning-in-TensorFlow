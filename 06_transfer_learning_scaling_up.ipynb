{
  "nbformat": 4,
  "nbformat_minor": 0,
  "metadata": {
    "colab": {
      "provenance": [],
      "include_colab_link": true
    },
    "kernelspec": {
      "name": "python3",
      "display_name": "Python 3"
    },
    "language_info": {
      "name": "python"
    }
  },
  "cells": [
    {
      "cell_type": "markdown",
      "metadata": {
        "id": "view-in-github",
        "colab_type": "text"
      },
      "source": [
        "<a href=\"https://colab.research.google.com/github/divyalaldinani/Deep-Learning-in-TensorFlow/blob/main/06_transfer_learning_scaling_up.ipynb\" target=\"_parent\"><img src=\"https://colab.research.google.com/assets/colab-badge.svg\" alt=\"Open In Colab\"/></a>"
      ]
    },
    {
      "cell_type": "markdown",
      "source": [
        "### Creating models on all 101 food categories: 10% training data"
      ],
      "metadata": {
        "id": "2ZzCo6kNf4YR"
      }
    },
    {
      "cell_type": "code",
      "source": [
        "!wget https://raw.githubusercontent.com/divyalaldinani/Deep-Learning-in-TensorFlow/refs/heads/main/extras/helper_functions.py"
      ],
      "metadata": {
        "id": "O4kr3Y4PgKdz",
        "colab": {
          "base_uri": "https://localhost:8080/"
        },
        "outputId": "2dbf2361-c22c-4a24-8be8-98bfe69065b4"
      },
      "execution_count": null,
      "outputs": [
        {
          "output_type": "stream",
          "name": "stdout",
          "text": [
            "--2025-01-24 13:31:50--  https://raw.githubusercontent.com/divyalaldinani/Deep-Learning-in-TensorFlow/refs/heads/main/extras/helper_functions.py\n",
            "Resolving raw.githubusercontent.com (raw.githubusercontent.com)... 185.199.108.133, 185.199.110.133, 185.199.111.133, ...\n",
            "Connecting to raw.githubusercontent.com (raw.githubusercontent.com)|185.199.108.133|:443... connected.\n",
            "HTTP request sent, awaiting response... 200 OK\n",
            "Length: 4090 (4.0K) [text/plain]\n",
            "Saving to: ‘helper_functions.py’\n",
            "\n",
            "helper_functions.py 100%[===================>]   3.99K  --.-KB/s    in 0s      \n",
            "\n",
            "2025-01-24 13:31:50 (96.6 MB/s) - ‘helper_functions.py’ saved [4090/4090]\n",
            "\n"
          ]
        }
      ]
    },
    {
      "cell_type": "code",
      "source": [
        "from helper_functions import prep_and_load_file, plot_confusion_matrix, pred_and_plot, plot_loss_curves, unzip_folder, view_random_image, walk_through_directory, view_random_image_and_augmented, create_tensorboard_callback1"
      ],
      "metadata": {
        "id": "DaP-lzUigV48"
      },
      "execution_count": null,
      "outputs": []
    },
    {
      "cell_type": "code",
      "source": [
        "!nvidia-smi"
      ],
      "metadata": {
        "colab": {
          "base_uri": "https://localhost:8080/"
        },
        "id": "6mhiFQMSh4xa",
        "outputId": "7955a6a6-44ef-4db2-9d44-852f8c5ee8a7"
      },
      "execution_count": null,
      "outputs": [
        {
          "output_type": "stream",
          "name": "stdout",
          "text": [
            "Fri Jan 24 13:37:18 2025       \n",
            "+---------------------------------------------------------------------------------------+\n",
            "| NVIDIA-SMI 535.104.05             Driver Version: 535.104.05   CUDA Version: 12.2     |\n",
            "|-----------------------------------------+----------------------+----------------------+\n",
            "| GPU  Name                 Persistence-M | Bus-Id        Disp.A | Volatile Uncorr. ECC |\n",
            "| Fan  Temp   Perf          Pwr:Usage/Cap |         Memory-Usage | GPU-Util  Compute M. |\n",
            "|                                         |                      |               MIG M. |\n",
            "|=========================================+======================+======================|\n",
            "|   0  Tesla T4                       Off | 00000000:00:04.0 Off |                    0 |\n",
            "| N/A   39C    P8               9W /  70W |      0MiB / 15360MiB |      0%      Default |\n",
            "|                                         |                      |                  N/A |\n",
            "+-----------------------------------------+----------------------+----------------------+\n",
            "                                                                                         \n",
            "+---------------------------------------------------------------------------------------+\n",
            "| Processes:                                                                            |\n",
            "|  GPU   GI   CI        PID   Type   Process name                            GPU Memory |\n",
            "|        ID   ID                                                             Usage      |\n",
            "|=======================================================================================|\n",
            "|  No running processes found                                                           |\n",
            "+---------------------------------------------------------------------------------------+\n"
          ]
        }
      ]
    },
    {
      "cell_type": "markdown",
      "source": [
        "### Downloading and preprocessing the data"
      ],
      "metadata": {
        "id": "cqJD5tXbh_94"
      }
    },
    {
      "cell_type": "code",
      "source": [
        "!wget https://storage.googleapis.com/ztm_tf_course/food_vision/101_food_classes_10_percent.zip"
      ],
      "metadata": {
        "colab": {
          "base_uri": "https://localhost:8080/"
        },
        "id": "2MOMc99DiHEu",
        "outputId": "5baed52c-1fb6-42b6-9478-b39c4972bbe3"
      },
      "execution_count": null,
      "outputs": [
        {
          "output_type": "stream",
          "name": "stdout",
          "text": [
            "--2025-01-24 13:37:46--  https://storage.googleapis.com/ztm_tf_course/food_vision/101_food_classes_10_percent.zip\n",
            "Resolving storage.googleapis.com (storage.googleapis.com)... 74.125.195.207, 172.253.117.207, 142.250.99.207, ...\n",
            "Connecting to storage.googleapis.com (storage.googleapis.com)|74.125.195.207|:443... connected.\n",
            "HTTP request sent, awaiting response... 200 OK\n",
            "Length: 1625420029 (1.5G) [application/zip]\n",
            "Saving to: ‘101_food_classes_10_percent.zip’\n",
            "\n",
            "101_food_classes_10 100%[===================>]   1.51G   123MB/s    in 16s     \n",
            "\n",
            "2025-01-24 13:38:03 (98.5 MB/s) - ‘101_food_classes_10_percent.zip’ saved [1625420029/1625420029]\n",
            "\n"
          ]
        }
      ]
    },
    {
      "cell_type": "code",
      "source": [
        "unzip_folder('101_food_classes_10_percent.zip')"
      ],
      "metadata": {
        "id": "rFxDIBPCiHn1"
      },
      "execution_count": null,
      "outputs": []
    },
    {
      "cell_type": "code",
      "source": [
        "train_dir = '101_food_classes_10_percent/train/'\n",
        "test_dir = '101_food_classes_10_percent/test/'"
      ],
      "metadata": {
        "id": "yaf6gbiBiL1Z"
      },
      "execution_count": null,
      "outputs": []
    },
    {
      "cell_type": "code",
      "source": [
        "walk_through_directory('101_food_classes_10_percent')"
      ],
      "metadata": {
        "colab": {
          "base_uri": "https://localhost:8080/"
        },
        "id": "mndvTyh_iSBb",
        "outputId": "28ece772-6ae5-4394-96bf-e8fbcd8f32d1"
      },
      "execution_count": null,
      "outputs": [
        {
          "output_type": "stream",
          "name": "stdout",
          "text": [
            "2 directories and 0 files in 101_food_classes_10_percent\n",
            "101 directories and 0 files in 101_food_classes_10_percent/test\n",
            "0 directories and 250 files in 101_food_classes_10_percent/test/baby_back_ribs\n",
            "0 directories and 250 files in 101_food_classes_10_percent/test/poutine\n",
            "0 directories and 250 files in 101_food_classes_10_percent/test/escargots\n",
            "0 directories and 250 files in 101_food_classes_10_percent/test/chicken_quesadilla\n",
            "0 directories and 250 files in 101_food_classes_10_percent/test/carrot_cake\n",
            "0 directories and 250 files in 101_food_classes_10_percent/test/deviled_eggs\n",
            "0 directories and 250 files in 101_food_classes_10_percent/test/hamburger\n",
            "0 directories and 250 files in 101_food_classes_10_percent/test/sashimi\n",
            "0 directories and 250 files in 101_food_classes_10_percent/test/peking_duck\n",
            "0 directories and 250 files in 101_food_classes_10_percent/test/ice_cream\n",
            "0 directories and 250 files in 101_food_classes_10_percent/test/caesar_salad\n",
            "0 directories and 250 files in 101_food_classes_10_percent/test/apple_pie\n",
            "0 directories and 250 files in 101_food_classes_10_percent/test/ceviche\n",
            "0 directories and 250 files in 101_food_classes_10_percent/test/frozen_yogurt\n",
            "0 directories and 250 files in 101_food_classes_10_percent/test/prime_rib\n",
            "0 directories and 250 files in 101_food_classes_10_percent/test/paella\n",
            "0 directories and 250 files in 101_food_classes_10_percent/test/tuna_tartare\n",
            "0 directories and 250 files in 101_food_classes_10_percent/test/gnocchi\n",
            "0 directories and 250 files in 101_food_classes_10_percent/test/bread_pudding\n",
            "0 directories and 250 files in 101_food_classes_10_percent/test/macaroni_and_cheese\n",
            "0 directories and 250 files in 101_food_classes_10_percent/test/fish_and_chips\n",
            "0 directories and 250 files in 101_food_classes_10_percent/test/ramen\n",
            "0 directories and 250 files in 101_food_classes_10_percent/test/pulled_pork_sandwich\n",
            "0 directories and 250 files in 101_food_classes_10_percent/test/beet_salad\n",
            "0 directories and 250 files in 101_food_classes_10_percent/test/pancakes\n",
            "0 directories and 250 files in 101_food_classes_10_percent/test/beef_carpaccio\n",
            "0 directories and 250 files in 101_food_classes_10_percent/test/tiramisu\n",
            "0 directories and 250 files in 101_food_classes_10_percent/test/mussels\n",
            "0 directories and 250 files in 101_food_classes_10_percent/test/dumplings\n",
            "0 directories and 250 files in 101_food_classes_10_percent/test/lobster_roll_sandwich\n",
            "0 directories and 250 files in 101_food_classes_10_percent/test/omelette\n",
            "0 directories and 250 files in 101_food_classes_10_percent/test/ravioli\n",
            "0 directories and 250 files in 101_food_classes_10_percent/test/macarons\n",
            "0 directories and 250 files in 101_food_classes_10_percent/test/oysters\n",
            "0 directories and 250 files in 101_food_classes_10_percent/test/beef_tartare\n",
            "0 directories and 250 files in 101_food_classes_10_percent/test/huevos_rancheros\n",
            "0 directories and 250 files in 101_food_classes_10_percent/test/french_fries\n",
            "0 directories and 250 files in 101_food_classes_10_percent/test/beignets\n",
            "0 directories and 250 files in 101_food_classes_10_percent/test/falafel\n",
            "0 directories and 250 files in 101_food_classes_10_percent/test/filet_mignon\n",
            "0 directories and 250 files in 101_food_classes_10_percent/test/steak\n",
            "0 directories and 250 files in 101_food_classes_10_percent/test/spaghetti_carbonara\n",
            "0 directories and 250 files in 101_food_classes_10_percent/test/lasagna\n",
            "0 directories and 250 files in 101_food_classes_10_percent/test/croque_madame\n",
            "0 directories and 250 files in 101_food_classes_10_percent/test/waffles\n",
            "0 directories and 250 files in 101_food_classes_10_percent/test/eggs_benedict\n",
            "0 directories and 250 files in 101_food_classes_10_percent/test/hot_dog\n",
            "0 directories and 250 files in 101_food_classes_10_percent/test/churros\n",
            "0 directories and 250 files in 101_food_classes_10_percent/test/miso_soup\n",
            "0 directories and 250 files in 101_food_classes_10_percent/test/chicken_curry\n",
            "0 directories and 250 files in 101_food_classes_10_percent/test/spaghetti_bolognese\n",
            "0 directories and 250 files in 101_food_classes_10_percent/test/foie_gras\n",
            "0 directories and 250 files in 101_food_classes_10_percent/test/takoyaki\n",
            "0 directories and 250 files in 101_food_classes_10_percent/test/pizza\n",
            "0 directories and 250 files in 101_food_classes_10_percent/test/lobster_bisque\n",
            "0 directories and 250 files in 101_food_classes_10_percent/test/chocolate_cake\n",
            "0 directories and 250 files in 101_food_classes_10_percent/test/spring_rolls\n",
            "0 directories and 250 files in 101_food_classes_10_percent/test/nachos\n",
            "0 directories and 250 files in 101_food_classes_10_percent/test/shrimp_and_grits\n",
            "0 directories and 250 files in 101_food_classes_10_percent/test/hot_and_sour_soup\n",
            "0 directories and 250 files in 101_food_classes_10_percent/test/donuts\n",
            "0 directories and 250 files in 101_food_classes_10_percent/test/grilled_salmon\n",
            "0 directories and 250 files in 101_food_classes_10_percent/test/cheese_plate\n",
            "0 directories and 250 files in 101_food_classes_10_percent/test/cannoli\n",
            "0 directories and 250 files in 101_food_classes_10_percent/test/greek_salad\n",
            "0 directories and 250 files in 101_food_classes_10_percent/test/edamame\n",
            "0 directories and 250 files in 101_food_classes_10_percent/test/fried_rice\n",
            "0 directories and 250 files in 101_food_classes_10_percent/test/bibimbap\n",
            "0 directories and 250 files in 101_food_classes_10_percent/test/samosa\n",
            "0 directories and 250 files in 101_food_classes_10_percent/test/risotto\n",
            "0 directories and 250 files in 101_food_classes_10_percent/test/french_toast\n",
            "0 directories and 250 files in 101_food_classes_10_percent/test/scallops\n",
            "0 directories and 250 files in 101_food_classes_10_percent/test/fried_calamari\n",
            "0 directories and 250 files in 101_food_classes_10_percent/test/club_sandwich\n",
            "0 directories and 250 files in 101_food_classes_10_percent/test/tacos\n",
            "0 directories and 250 files in 101_food_classes_10_percent/test/sushi\n",
            "0 directories and 250 files in 101_food_classes_10_percent/test/creme_brulee\n",
            "0 directories and 250 files in 101_food_classes_10_percent/test/french_onion_soup\n",
            "0 directories and 250 files in 101_food_classes_10_percent/test/bruschetta\n",
            "0 directories and 250 files in 101_food_classes_10_percent/test/baklava\n",
            "0 directories and 250 files in 101_food_classes_10_percent/test/seaweed_salad\n",
            "0 directories and 250 files in 101_food_classes_10_percent/test/strawberry_shortcake\n",
            "0 directories and 250 files in 101_food_classes_10_percent/test/pho\n",
            "0 directories and 250 files in 101_food_classes_10_percent/test/caprese_salad\n",
            "0 directories and 250 files in 101_food_classes_10_percent/test/clam_chowder\n",
            "0 directories and 250 files in 101_food_classes_10_percent/test/panna_cotta\n",
            "0 directories and 250 files in 101_food_classes_10_percent/test/red_velvet_cake\n",
            "0 directories and 250 files in 101_food_classes_10_percent/test/pad_thai\n",
            "0 directories and 250 files in 101_food_classes_10_percent/test/hummus\n",
            "0 directories and 250 files in 101_food_classes_10_percent/test/onion_rings\n",
            "0 directories and 250 files in 101_food_classes_10_percent/test/pork_chop\n",
            "0 directories and 250 files in 101_food_classes_10_percent/test/crab_cakes\n",
            "0 directories and 250 files in 101_food_classes_10_percent/test/guacamole\n",
            "0 directories and 250 files in 101_food_classes_10_percent/test/grilled_cheese_sandwich\n",
            "0 directories and 250 files in 101_food_classes_10_percent/test/gyoza\n",
            "0 directories and 250 files in 101_food_classes_10_percent/test/cheesecake\n",
            "0 directories and 250 files in 101_food_classes_10_percent/test/breakfast_burrito\n",
            "0 directories and 250 files in 101_food_classes_10_percent/test/cup_cakes\n",
            "0 directories and 250 files in 101_food_classes_10_percent/test/chicken_wings\n",
            "0 directories and 250 files in 101_food_classes_10_percent/test/chocolate_mousse\n",
            "0 directories and 250 files in 101_food_classes_10_percent/test/garlic_bread\n",
            "101 directories and 0 files in 101_food_classes_10_percent/train\n",
            "0 directories and 75 files in 101_food_classes_10_percent/train/baby_back_ribs\n",
            "0 directories and 75 files in 101_food_classes_10_percent/train/poutine\n",
            "0 directories and 75 files in 101_food_classes_10_percent/train/escargots\n",
            "0 directories and 75 files in 101_food_classes_10_percent/train/chicken_quesadilla\n",
            "0 directories and 75 files in 101_food_classes_10_percent/train/carrot_cake\n",
            "0 directories and 75 files in 101_food_classes_10_percent/train/deviled_eggs\n",
            "0 directories and 75 files in 101_food_classes_10_percent/train/hamburger\n",
            "0 directories and 75 files in 101_food_classes_10_percent/train/sashimi\n",
            "0 directories and 75 files in 101_food_classes_10_percent/train/peking_duck\n",
            "0 directories and 75 files in 101_food_classes_10_percent/train/ice_cream\n",
            "0 directories and 75 files in 101_food_classes_10_percent/train/caesar_salad\n",
            "0 directories and 75 files in 101_food_classes_10_percent/train/apple_pie\n",
            "0 directories and 75 files in 101_food_classes_10_percent/train/ceviche\n",
            "0 directories and 75 files in 101_food_classes_10_percent/train/frozen_yogurt\n",
            "0 directories and 75 files in 101_food_classes_10_percent/train/prime_rib\n",
            "0 directories and 75 files in 101_food_classes_10_percent/train/paella\n",
            "0 directories and 75 files in 101_food_classes_10_percent/train/tuna_tartare\n",
            "0 directories and 75 files in 101_food_classes_10_percent/train/gnocchi\n",
            "0 directories and 75 files in 101_food_classes_10_percent/train/bread_pudding\n",
            "0 directories and 75 files in 101_food_classes_10_percent/train/macaroni_and_cheese\n",
            "0 directories and 75 files in 101_food_classes_10_percent/train/fish_and_chips\n",
            "0 directories and 75 files in 101_food_classes_10_percent/train/ramen\n",
            "0 directories and 75 files in 101_food_classes_10_percent/train/pulled_pork_sandwich\n",
            "0 directories and 75 files in 101_food_classes_10_percent/train/beet_salad\n",
            "0 directories and 75 files in 101_food_classes_10_percent/train/pancakes\n",
            "0 directories and 75 files in 101_food_classes_10_percent/train/beef_carpaccio\n",
            "0 directories and 75 files in 101_food_classes_10_percent/train/tiramisu\n",
            "0 directories and 75 files in 101_food_classes_10_percent/train/mussels\n",
            "0 directories and 75 files in 101_food_classes_10_percent/train/dumplings\n",
            "0 directories and 75 files in 101_food_classes_10_percent/train/lobster_roll_sandwich\n",
            "0 directories and 75 files in 101_food_classes_10_percent/train/omelette\n",
            "0 directories and 75 files in 101_food_classes_10_percent/train/ravioli\n",
            "0 directories and 75 files in 101_food_classes_10_percent/train/macarons\n",
            "0 directories and 75 files in 101_food_classes_10_percent/train/oysters\n",
            "0 directories and 75 files in 101_food_classes_10_percent/train/beef_tartare\n",
            "0 directories and 75 files in 101_food_classes_10_percent/train/huevos_rancheros\n",
            "0 directories and 75 files in 101_food_classes_10_percent/train/french_fries\n",
            "0 directories and 75 files in 101_food_classes_10_percent/train/beignets\n",
            "0 directories and 75 files in 101_food_classes_10_percent/train/falafel\n",
            "0 directories and 75 files in 101_food_classes_10_percent/train/filet_mignon\n",
            "0 directories and 75 files in 101_food_classes_10_percent/train/steak\n",
            "0 directories and 75 files in 101_food_classes_10_percent/train/spaghetti_carbonara\n",
            "0 directories and 75 files in 101_food_classes_10_percent/train/lasagna\n",
            "0 directories and 75 files in 101_food_classes_10_percent/train/croque_madame\n",
            "0 directories and 75 files in 101_food_classes_10_percent/train/waffles\n",
            "0 directories and 75 files in 101_food_classes_10_percent/train/eggs_benedict\n",
            "0 directories and 75 files in 101_food_classes_10_percent/train/hot_dog\n",
            "0 directories and 75 files in 101_food_classes_10_percent/train/churros\n",
            "0 directories and 75 files in 101_food_classes_10_percent/train/miso_soup\n",
            "0 directories and 75 files in 101_food_classes_10_percent/train/chicken_curry\n",
            "0 directories and 75 files in 101_food_classes_10_percent/train/spaghetti_bolognese\n",
            "0 directories and 75 files in 101_food_classes_10_percent/train/foie_gras\n",
            "0 directories and 75 files in 101_food_classes_10_percent/train/takoyaki\n",
            "0 directories and 75 files in 101_food_classes_10_percent/train/pizza\n",
            "0 directories and 75 files in 101_food_classes_10_percent/train/lobster_bisque\n",
            "0 directories and 75 files in 101_food_classes_10_percent/train/chocolate_cake\n",
            "0 directories and 75 files in 101_food_classes_10_percent/train/spring_rolls\n",
            "0 directories and 75 files in 101_food_classes_10_percent/train/nachos\n",
            "0 directories and 75 files in 101_food_classes_10_percent/train/shrimp_and_grits\n",
            "0 directories and 75 files in 101_food_classes_10_percent/train/hot_and_sour_soup\n",
            "0 directories and 75 files in 101_food_classes_10_percent/train/donuts\n",
            "0 directories and 75 files in 101_food_classes_10_percent/train/grilled_salmon\n",
            "0 directories and 75 files in 101_food_classes_10_percent/train/cheese_plate\n",
            "0 directories and 75 files in 101_food_classes_10_percent/train/cannoli\n",
            "0 directories and 75 files in 101_food_classes_10_percent/train/greek_salad\n",
            "0 directories and 75 files in 101_food_classes_10_percent/train/edamame\n",
            "0 directories and 75 files in 101_food_classes_10_percent/train/fried_rice\n",
            "0 directories and 75 files in 101_food_classes_10_percent/train/bibimbap\n",
            "0 directories and 75 files in 101_food_classes_10_percent/train/samosa\n",
            "0 directories and 75 files in 101_food_classes_10_percent/train/risotto\n",
            "0 directories and 75 files in 101_food_classes_10_percent/train/french_toast\n",
            "0 directories and 75 files in 101_food_classes_10_percent/train/scallops\n",
            "0 directories and 75 files in 101_food_classes_10_percent/train/fried_calamari\n",
            "0 directories and 75 files in 101_food_classes_10_percent/train/club_sandwich\n",
            "0 directories and 75 files in 101_food_classes_10_percent/train/tacos\n",
            "0 directories and 75 files in 101_food_classes_10_percent/train/sushi\n",
            "0 directories and 75 files in 101_food_classes_10_percent/train/creme_brulee\n",
            "0 directories and 75 files in 101_food_classes_10_percent/train/french_onion_soup\n",
            "0 directories and 75 files in 101_food_classes_10_percent/train/bruschetta\n",
            "0 directories and 75 files in 101_food_classes_10_percent/train/baklava\n",
            "0 directories and 75 files in 101_food_classes_10_percent/train/seaweed_salad\n",
            "0 directories and 75 files in 101_food_classes_10_percent/train/strawberry_shortcake\n",
            "0 directories and 75 files in 101_food_classes_10_percent/train/pho\n",
            "0 directories and 75 files in 101_food_classes_10_percent/train/caprese_salad\n",
            "0 directories and 75 files in 101_food_classes_10_percent/train/clam_chowder\n",
            "0 directories and 75 files in 101_food_classes_10_percent/train/panna_cotta\n",
            "0 directories and 75 files in 101_food_classes_10_percent/train/red_velvet_cake\n",
            "0 directories and 75 files in 101_food_classes_10_percent/train/pad_thai\n",
            "0 directories and 75 files in 101_food_classes_10_percent/train/hummus\n",
            "0 directories and 75 files in 101_food_classes_10_percent/train/onion_rings\n",
            "0 directories and 75 files in 101_food_classes_10_percent/train/pork_chop\n",
            "0 directories and 75 files in 101_food_classes_10_percent/train/crab_cakes\n",
            "0 directories and 75 files in 101_food_classes_10_percent/train/guacamole\n",
            "0 directories and 75 files in 101_food_classes_10_percent/train/grilled_cheese_sandwich\n",
            "0 directories and 75 files in 101_food_classes_10_percent/train/gyoza\n",
            "0 directories and 75 files in 101_food_classes_10_percent/train/cheesecake\n",
            "0 directories and 75 files in 101_food_classes_10_percent/train/breakfast_burrito\n",
            "0 directories and 75 files in 101_food_classes_10_percent/train/cup_cakes\n",
            "0 directories and 75 files in 101_food_classes_10_percent/train/chicken_wings\n",
            "0 directories and 75 files in 101_food_classes_10_percent/train/chocolate_mousse\n",
            "0 directories and 75 files in 101_food_classes_10_percent/train/garlic_bread\n"
          ]
        }
      ]
    },
    {
      "cell_type": "markdown",
      "source": [
        "### Creating input data pipelines"
      ],
      "metadata": {
        "id": "XFmK_aUAiazs"
      }
    },
    {
      "cell_type": "code",
      "source": [
        "import tensorflow as tf\n",
        "\n",
        "IMG_SIZE = (224, 224)\n",
        "train_data_10_percent = tf.keras.preprocessing.image_dataset_from_directory(train_dir,\n",
        "                                                                            label_mode='categorical',\n",
        "                                                                            image_size=IMG_SIZE,\n",
        "                                                                            seed = 42) # convert images to this dim\n",
        "\n",
        "test_data = tf.keras.preprocessing.image_dataset_from_directory(test_dir,\n",
        "                                                                label_mode='categorical',\n",
        "                                                                image_size=IMG_SIZE,\n",
        "                                                                shuffle = False) # defaults to True, set to False as shuffling doesnt help and you want to test on same data all times, to get a better criteria for comparision\n"
      ],
      "metadata": {
        "colab": {
          "base_uri": "https://localhost:8080/"
        },
        "id": "7lw0oWB-ieR9",
        "outputId": "9bad97a8-7d91-497e-a9c3-59d6bf055d5c"
      },
      "execution_count": null,
      "outputs": [
        {
          "output_type": "stream",
          "name": "stdout",
          "text": [
            "Found 7575 files belonging to 101 classes.\n",
            "Found 25250 files belonging to 101 classes.\n"
          ]
        }
      ]
    },
    {
      "cell_type": "markdown",
      "source": [
        "### Training a Model on 101 Categories for 10% of training data"
      ],
      "metadata": {
        "id": "qj6FQJhtkS8F"
      }
    },
    {
      "cell_type": "code",
      "source": [
        "checkpoint_path = 'model_0_checkpoints_weights/ckpt/ceckpoint.weights.h5'\n",
        "# to save model's weights for further use\n",
        "\n",
        "checkpoint_callback = tf.keras.callbacks.ModelCheckpoint(checkpoint_path,\n",
        "                                         save_weights_only=True,\n",
        "                                         monitor='val_accuracy', # save the model that gets best val accuracy\n",
        "                                         save_best_only=True)\n"
      ],
      "metadata": {
        "id": "27QN4vwUkY4o"
      },
      "execution_count": null,
      "outputs": []
    },
    {
      "cell_type": "code",
      "source": [
        "\n",
        "# from tensorflow.keras.layers.experimental import preprocessing\n"
      ],
      "metadata": {
        "id": "0KAaRIMklYxd"
      },
      "execution_count": null,
      "outputs": []
    },
    {
      "cell_type": "code",
      "source": [
        "base_model = tf.keras.applications.MobileNetV3Small(include_top=False)\n",
        "\n",
        "base_model.trainable = False\n",
        "\n",
        "from tensorflow.keras import layers\n",
        "\n",
        "data_augmentation = tf.keras.Sequential([\n",
        "    layers.RandomFlip('horizontal'),\n",
        "    layers.RandomWidth(0.2),\n",
        "    layers.RandomHeight(0.2),\n",
        "    layers.RandomZoom(0.2),\n",
        "    layers.RandomRotation(0.2)\n",
        "], name = 'data_augmentation')\n",
        "\n",
        "inputs = layers.Input(shape=(224, 224, 3), name = 'input_layer')\n",
        "x = data_augmentation(inputs)\n",
        "x = base_model(x, training=False)\n",
        "x = layers.GlobalAveragePooling2D(name='global_avg_pooling')(x)\n",
        "outputs = layers.Dense(len(train_data_10_percent.class_names), activation='softmax', name = 'output_layer')(x)\n",
        "model = tf.keras.Model(inputs, outputs)"
      ],
      "metadata": {
        "colab": {
          "base_uri": "https://localhost:8080/"
        },
        "id": "IwNRBoJGmJMv",
        "outputId": "bb589427-9b64-40a5-f076-841e14860b21"
      },
      "execution_count": null,
      "outputs": [
        {
          "output_type": "stream",
          "name": "stderr",
          "text": [
            "/usr/local/lib/python3.11/dist-packages/keras/src/applications/mobilenet_v3.py:452: UserWarning: `input_shape` is undefined or non-square, or `rows` is not 224. Weights for input shape (224, 224) will be loaded as the default.\n",
            "  return MobileNetV3(\n"
          ]
        }
      ]
    },
    {
      "cell_type": "code",
      "source": [
        "model.compile(loss='categorical_crossentropy',\n",
        "              optimizer=tf.keras.optimizers.Adam(),\n",
        "              metrics=['accuracy'])\n",
        "\n",
        "history_0 = model.fit(train_data_10_percent,\n",
        "                      validation_data=test_data,\n",
        "                      epochs=5,\n",
        "                      callbacks=[checkpoint_callback])"
      ],
      "metadata": {
        "colab": {
          "base_uri": "https://localhost:8080/"
        },
        "id": "41VXPP1JnR-Z",
        "outputId": "af79ad42-9cf5-4d24-9527-e7eb191b4006"
      },
      "execution_count": null,
      "outputs": [
        {
          "output_type": "stream",
          "name": "stdout",
          "text": [
            "Epoch 1/5\n",
            "\u001b[1m237/237\u001b[0m \u001b[32m━━━━━━━━━━━━━━━━━━━━\u001b[0m\u001b[37m\u001b[0m \u001b[1m147s\u001b[0m 579ms/step - accuracy: 0.0568 - loss: 4.5090 - val_accuracy: 0.2763 - val_loss: 3.1216\n",
            "Epoch 2/5\n",
            "\u001b[1m237/237\u001b[0m \u001b[32m━━━━━━━━━━━━━━━━━━━━\u001b[0m\u001b[37m\u001b[0m \u001b[1m72s\u001b[0m 306ms/step - accuracy: 0.2851 - loss: 3.1159 - val_accuracy: 0.3748 - val_loss: 2.5906\n",
            "Epoch 3/5\n",
            "\u001b[1m237/237\u001b[0m \u001b[32m━━━━━━━━━━━━━━━━━━━━\u001b[0m\u001b[37m\u001b[0m \u001b[1m78s\u001b[0m 289ms/step - accuracy: 0.3720 - loss: 2.7058 - val_accuracy: 0.4101 - val_loss: 2.3656\n",
            "Epoch 4/5\n",
            "\u001b[1m237/237\u001b[0m \u001b[32m━━━━━━━━━━━━━━━━━━━━\u001b[0m\u001b[37m\u001b[0m \u001b[1m66s\u001b[0m 281ms/step - accuracy: 0.4021 - loss: 2.4799 - val_accuracy: 0.4377 - val_loss: 2.2294\n",
            "Epoch 5/5\n",
            "\u001b[1m237/237\u001b[0m \u001b[32m━━━━━━━━━━━━━━━━━━━━\u001b[0m\u001b[37m\u001b[0m \u001b[1m64s\u001b[0m 271ms/step - accuracy: 0.4346 - loss: 2.3267 - val_accuracy: 0.4627 - val_loss: 2.1350\n"
          ]
        }
      ]
    },
    {
      "cell_type": "code",
      "source": [
        "inputs"
      ],
      "metadata": {
        "colab": {
          "base_uri": "https://localhost:8080/"
        },
        "id": "zNFG89FDn9nM",
        "outputId": "b30ef1ed-a60d-4801-d7f4-213d371d4cd4"
      },
      "execution_count": null,
      "outputs": [
        {
          "output_type": "execute_result",
          "data": {
            "text/plain": [
              "<KerasTensor shape=(None, 224, 224, 3), dtype=float32, sparse=False, name=input_layer>"
            ]
          },
          "metadata": {},
          "execution_count": 23
        }
      ]
    },
    {
      "cell_type": "code",
      "source": [
        "model.evaluate(test_data)"
      ],
      "metadata": {
        "colab": {
          "base_uri": "https://localhost:8080/"
        },
        "id": "Ml7wJTwhq0O0",
        "outputId": "4d79bc3f-f0ed-455b-cd63-6340901ee8fa"
      },
      "execution_count": null,
      "outputs": [
        {
          "output_type": "stream",
          "name": "stdout",
          "text": [
            "\u001b[1m790/790\u001b[0m \u001b[32m━━━━━━━━━━━━━━━━━━━━\u001b[0m\u001b[37m\u001b[0m \u001b[1m46s\u001b[0m 59ms/step - accuracy: 0.4295 - loss: 2.3004\n"
          ]
        },
        {
          "output_type": "execute_result",
          "data": {
            "text/plain": [
              "[2.1350464820861816, 0.4626534581184387]"
            ]
          },
          "metadata": {},
          "execution_count": 24
        }
      ]
    },
    {
      "cell_type": "code",
      "source": [
        "plot_loss_curves(history_0)"
      ],
      "metadata": {
        "colab": {
          "base_uri": "https://localhost:8080/",
          "height": 927
        },
        "id": "6Ckr7IDBq7Jl",
        "outputId": "73702ffc-9964-4052-9529-e610c1d9b0a9"
      },
      "execution_count": null,
      "outputs": [
        {
          "output_type": "display_data",
          "data": {
            "text/plain": [
              "<Figure size 640x480 with 1 Axes>"
            ],
            "image/png": "[encoded data removed]"
          },
          "metadata": {}
        },
        {
          "output_type": "display_data",
          "data": {
            "text/plain": [
              "<Figure size 640x480 with 1 Axes>"
            ],
            "image/png": "[encoded data removed]"
          },
          "metadata": {}
        }
      ]
    },
    {
      "cell_type": "markdown",
      "source": [
        "#### Fine-tuning"
      ],
      "metadata": {
        "id": "9FQbuguJrO3Q"
      }
    },
    {
      "cell_type": "code",
      "source": [
        "# Initially,\n",
        "# base_model = tf.keras.applications.MobileNetV3Small(include_top=False)\n",
        "\n",
        "# base_model.trainable = False\n",
        "\n",
        "base_model.trainable=True\n",
        "for layer in base_model.layers:\n",
        "    print(f\"{layer.name} {layer.trainable}\")"
      ],
      "metadata": {
        "colab": {
          "base_uri": "https://localhost:8080/"
        },
        "id": "QbY3wBKdrZoQ",
        "outputId": "c7b8e3cf-10f0-44b5-dcea-929b4d61f980"
      },
      "execution_count": null,
      "outputs": [
        {
          "output_type": "stream",
          "name": "stdout",
          "text": [
            "input_layer_8 True\n",
            "rescaling_4 True\n",
            "conv True\n",
            "conv_bn True\n",
            "activation_72 True\n",
            "expanded_conv_depthwise_pad True\n",
            "expanded_conv_depthwise True\n",
            "expanded_conv_depthwise_bn True\n",
            "re_lu_56 True\n",
            "expanded_conv_squeeze_excite_avg_pool True\n",
            "expanded_conv_squeeze_excite_conv True\n",
            "expanded_conv_squeeze_excite_relu True\n",
            "expanded_conv_squeeze_excite_conv_1 True\n",
            "re_lu_57 True\n",
            "expanded_conv_squeeze_excite_mul True\n",
            "expanded_conv_project True\n",
            "expanded_conv_project_bn True\n",
            "expanded_conv_1_expand True\n",
            "expanded_conv_1_expand_bn True\n",
            "re_lu_58 True\n",
            "expanded_conv_1_depthwise_pad True\n",
            "expanded_conv_1_depthwise True\n",
            "expanded_conv_1_depthwise_bn True\n",
            "re_lu_59 True\n",
            "expanded_conv_1_project True\n",
            "expanded_conv_1_project_bn True\n",
            "expanded_conv_2_expand True\n",
            "expanded_conv_2_expand_bn True\n",
            "re_lu_60 True\n",
            "expanded_conv_2_depthwise True\n",
            "expanded_conv_2_depthwise_bn True\n",
            "re_lu_61 True\n",
            "expanded_conv_2_project True\n",
            "expanded_conv_2_project_bn True\n",
            "expanded_conv_2_add True\n",
            "expanded_conv_3_expand True\n",
            "expanded_conv_3_expand_bn True\n",
            "activation_73 True\n",
            "expanded_conv_3_depthwise_pad True\n",
            "expanded_conv_3_depthwise True\n",
            "expanded_conv_3_depthwise_bn True\n",
            "activation_74 True\n",
            "expanded_conv_3_squeeze_excite_avg_pool True\n",
            "expanded_conv_3_squeeze_excite_conv True\n",
            "expanded_conv_3_squeeze_excite_relu True\n",
            "expanded_conv_3_squeeze_excite_conv_1 True\n",
            "re_lu_62 True\n",
            "expanded_conv_3_squeeze_excite_mul True\n",
            "expanded_conv_3_project True\n",
            "expanded_conv_3_project_bn True\n",
            "expanded_conv_4_expand True\n",
            "expanded_conv_4_expand_bn True\n",
            "activation_75 True\n",
            "expanded_conv_4_depthwise True\n",
            "expanded_conv_4_depthwise_bn True\n",
            "activation_76 True\n",
            "expanded_conv_4_squeeze_excite_avg_pool True\n",
            "expanded_conv_4_squeeze_excite_conv True\n",
            "expanded_conv_4_squeeze_excite_relu True\n",
            "expanded_conv_4_squeeze_excite_conv_1 True\n",
            "re_lu_63 True\n",
            "expanded_conv_4_squeeze_excite_mul True\n",
            "expanded_conv_4_project True\n",
            "expanded_conv_4_project_bn True\n",
            "expanded_conv_4_add True\n",
            "expanded_conv_5_expand True\n",
            "expanded_conv_5_expand_bn True\n",
            "activation_77 True\n",
            "expanded_conv_5_depthwise True\n",
            "expanded_conv_5_depthwise_bn True\n",
            "activation_78 True\n",
            "expanded_conv_5_squeeze_excite_avg_pool True\n",
            "expanded_conv_5_squeeze_excite_conv True\n",
            "expanded_conv_5_squeeze_excite_relu True\n",
            "expanded_conv_5_squeeze_excite_conv_1 True\n",
            "re_lu_64 True\n",
            "expanded_conv_5_squeeze_excite_mul True\n",
            "expanded_conv_5_project True\n",
            "expanded_conv_5_project_bn True\n",
            "expanded_conv_5_add True\n",
            "expanded_conv_6_expand True\n",
            "expanded_conv_6_expand_bn True\n",
            "activation_79 True\n",
            "expanded_conv_6_depthwise True\n",
            "expanded_conv_6_depthwise_bn True\n",
            "activation_80 True\n",
            "expanded_conv_6_squeeze_excite_avg_pool True\n",
            "expanded_conv_6_squeeze_excite_conv True\n",
            "expanded_conv_6_squeeze_excite_relu True\n",
            "expanded_conv_6_squeeze_excite_conv_1 True\n",
            "re_lu_65 True\n",
            "expanded_conv_6_squeeze_excite_mul True\n",
            "expanded_conv_6_project True\n",
            "expanded_conv_6_project_bn True\n",
            "expanded_conv_7_expand True\n",
            "expanded_conv_7_expand_bn True\n",
            "activation_81 True\n",
            "expanded_conv_7_depthwise True\n",
            "expanded_conv_7_depthwise_bn True\n",
            "activation_82 True\n",
            "expanded_conv_7_squeeze_excite_avg_pool True\n",
            "expanded_conv_7_squeeze_excite_conv True\n",
            "expanded_conv_7_squeeze_excite_relu True\n",
            "expanded_conv_7_squeeze_excite_conv_1 True\n",
            "re_lu_66 True\n",
            "expanded_conv_7_squeeze_excite_mul True\n",
            "expanded_conv_7_project True\n",
            "expanded_conv_7_project_bn True\n",
            "expanded_conv_7_add True\n",
            "expanded_conv_8_expand True\n",
            "expanded_conv_8_expand_bn True\n",
            "activation_83 True\n",
            "expanded_conv_8_depthwise_pad True\n",
            "expanded_conv_8_depthwise True\n",
            "expanded_conv_8_depthwise_bn True\n",
            "activation_84 True\n",
            "expanded_conv_8_squeeze_excite_avg_pool True\n",
            "expanded_conv_8_squeeze_excite_conv True\n",
            "expanded_conv_8_squeeze_excite_relu True\n",
            "expanded_conv_8_squeeze_excite_conv_1 True\n",
            "re_lu_67 True\n",
            "expanded_conv_8_squeeze_excite_mul True\n",
            "expanded_conv_8_project True\n",
            "expanded_conv_8_project_bn True\n",
            "expanded_conv_9_expand True\n",
            "expanded_conv_9_expand_bn True\n",
            "activation_85 True\n",
            "expanded_conv_9_depthwise True\n",
            "expanded_conv_9_depthwise_bn True\n",
            "activation_86 True\n",
            "expanded_conv_9_squeeze_excite_avg_pool True\n",
            "expanded_conv_9_squeeze_excite_conv True\n",
            "expanded_conv_9_squeeze_excite_relu True\n",
            "expanded_conv_9_squeeze_excite_conv_1 True\n",
            "re_lu_68 True\n",
            "expanded_conv_9_squeeze_excite_mul True\n",
            "expanded_conv_9_project True\n",
            "expanded_conv_9_project_bn True\n",
            "expanded_conv_9_add True\n",
            "expanded_conv_10_expand True\n",
            "expanded_conv_10_expand_bn True\n",
            "activation_87 True\n",
            "expanded_conv_10_depthwise True\n",
            "expanded_conv_10_depthwise_bn True\n",
            "activation_88 True\n",
            "expanded_conv_10_squeeze_excite_avg_pool True\n",
            "expanded_conv_10_squeeze_excite_conv True\n",
            "expanded_conv_10_squeeze_excite_relu True\n",
            "expanded_conv_10_squeeze_excite_conv_1 True\n",
            "re_lu_69 True\n",
            "expanded_conv_10_squeeze_excite_mul True\n",
            "expanded_conv_10_project True\n",
            "expanded_conv_10_project_bn True\n",
            "expanded_conv_10_add True\n",
            "conv_1 True\n",
            "conv_1_bn True\n",
            "activation_89 True\n"
          ]
        }
      ]
    },
    {
      "cell_type": "code",
      "source": [
        "# only train/unfreeze last 5 layers(towards output)\n",
        "for layer in base_model.layers[:-5]:\n",
        "    layer.trainable = False\n",
        "\n",
        "for layer in base_model.layers:\n",
        "    print(f\"Layer: {layer} Trainable? : {layer.trainable}\")"
      ],
      "metadata": {
        "colab": {
          "base_uri": "https://localhost:8080/"
        },
        "id": "oUzyvRFTrnjA",
        "outputId": "b67251d1-9f3c-49f2-8602-9c4eecb8522a"
      },
      "execution_count": null,
      "outputs": [
        {
          "output_type": "stream",
          "name": "stdout",
          "text": [
            "Layer: <InputLayer name=input_layer_8, built=True> Trainable? : False\n",
            "Layer: <Rescaling name=rescaling_4, built=True> Trainable? : False\n",
            "Layer: <Conv2D name=conv, built=True> Trainable? : False\n",
            "Layer: <BatchNormalization name=conv_bn, built=True> Trainable? : False\n",
            "Layer: <Activation name=activation_72, built=True> Trainable? : False\n",
            "Layer: <ZeroPadding2D name=expanded_conv_depthwise_pad, built=True> Trainable? : False\n",
            "Layer: <DepthwiseConv2D name=expanded_conv_depthwise, built=True> Trainable? : False\n",
            "Layer: <BatchNormalization name=expanded_conv_depthwise_bn, built=True> Trainable? : False\n",
            "Layer: <ReLU name=re_lu_56, built=True> Trainable? : False\n",
            "Layer: <GlobalAveragePooling2D name=expanded_conv_squeeze_excite_avg_pool, built=True> Trainable? : False\n",
            "Layer: <Conv2D name=expanded_conv_squeeze_excite_conv, built=True> Trainable? : False\n",
            "Layer: <ReLU name=expanded_conv_squeeze_excite_relu, built=True> Trainable? : False\n",
            "Layer: <Conv2D name=expanded_conv_squeeze_excite_conv_1, built=True> Trainable? : False\n",
            "Layer: <ReLU name=re_lu_57, built=True> Trainable? : False\n",
            "Layer: <Multiply name=expanded_conv_squeeze_excite_mul, built=True> Trainable? : False\n",
            "Layer: <Conv2D name=expanded_conv_project, built=True> Trainable? : False\n",
            "Layer: <BatchNormalization name=expanded_conv_project_bn, built=True> Trainable? : False\n",
            "Layer: <Conv2D name=expanded_conv_1_expand, built=True> Trainable? : False\n",
            "Layer: <BatchNormalization name=expanded_conv_1_expand_bn, built=True> Trainable? : False\n",
            "Layer: <ReLU name=re_lu_58, built=True> Trainable? : False\n",
            "Layer: <ZeroPadding2D name=expanded_conv_1_depthwise_pad, built=True> Trainable? : False\n",
            "Layer: <DepthwiseConv2D name=expanded_conv_1_depthwise, built=True> Trainable? : False\n",
            "Layer: <BatchNormalization name=expanded_conv_1_depthwise_bn, built=True> Trainable? : False\n",
            "Layer: <ReLU name=re_lu_59, built=True> Trainable? : False\n",
            "Layer: <Conv2D name=expanded_conv_1_project, built=True> Trainable? : False\n",
            "Layer: <BatchNormalization name=expanded_conv_1_project_bn, built=True> Trainable? : False\n",
            "Layer: <Conv2D name=expanded_conv_2_expand, built=True> Trainable? : False\n",
            "Layer: <BatchNormalization name=expanded_conv_2_expand_bn, built=True> Trainable? : False\n",
            "Layer: <ReLU name=re_lu_60, built=True> Trainable? : False\n",
            "Layer: <DepthwiseConv2D name=expanded_conv_2_depthwise, built=True> Trainable? : False\n",
            "Layer: <BatchNormalization name=expanded_conv_2_depthwise_bn, built=True> Trainable? : False\n",
            "Layer: <ReLU name=re_lu_61, built=True> Trainable? : False\n",
            "Layer: <Conv2D name=expanded_conv_2_project, built=True> Trainable? : False\n",
            "Layer: <BatchNormalization name=expanded_conv_2_project_bn, built=True> Trainable? : False\n",
            "Layer: <Add name=expanded_conv_2_add, built=True> Trainable? : False\n",
            "Layer: <Conv2D name=expanded_conv_3_expand, built=True> Trainable? : False\n",
            "Layer: <BatchNormalization name=expanded_conv_3_expand_bn, built=True> Trainable? : False\n",
            "Layer: <Activation name=activation_73, built=True> Trainable? : False\n",
            "Layer: <ZeroPadding2D name=expanded_conv_3_depthwise_pad, built=True> Trainable? : False\n",
            "Layer: <DepthwiseConv2D name=expanded_conv_3_depthwise, built=True> Trainable? : False\n",
            "Layer: <BatchNormalization name=expanded_conv_3_depthwise_bn, built=True> Trainable? : False\n",
            "Layer: <Activation name=activation_74, built=True> Trainable? : False\n",
            "Layer: <GlobalAveragePooling2D name=expanded_conv_3_squeeze_excite_avg_pool, built=True> Trainable? : False\n",
            "Layer: <Conv2D name=expanded_conv_3_squeeze_excite_conv, built=True> Trainable? : False\n",
            "Layer: <ReLU name=expanded_conv_3_squeeze_excite_relu, built=True> Trainable? : False\n",
            "Layer: <Conv2D name=expanded_conv_3_squeeze_excite_conv_1, built=True> Trainable? : False\n",
            "Layer: <ReLU name=re_lu_62, built=True> Trainable? : False\n",
            "Layer: <Multiply name=expanded_conv_3_squeeze_excite_mul, built=True> Trainable? : False\n",
            "Layer: <Conv2D name=expanded_conv_3_project, built=True> Trainable? : False\n",
            "Layer: <BatchNormalization name=expanded_conv_3_project_bn, built=True> Trainable? : False\n",
            "Layer: <Conv2D name=expanded_conv_4_expand, built=True> Trainable? : False\n",
            "Layer: <BatchNormalization name=expanded_conv_4_expand_bn, built=True> Trainable? : False\n",
            "Layer: <Activation name=activation_75, built=True> Trainable? : False\n",
            "Layer: <DepthwiseConv2D name=expanded_conv_4_depthwise, built=True> Trainable? : False\n",
            "Layer: <BatchNormalization name=expanded_conv_4_depthwise_bn, built=True> Trainable? : False\n",
            "Layer: <Activation name=activation_76, built=True> Trainable? : False\n",
            "Layer: <GlobalAveragePooling2D name=expanded_conv_4_squeeze_excite_avg_pool, built=True> Trainable? : False\n",
            "Layer: <Conv2D name=expanded_conv_4_squeeze_excite_conv, built=True> Trainable? : False\n",
            "Layer: <ReLU name=expanded_conv_4_squeeze_excite_relu, built=True> Trainable? : False\n",
            "Layer: <Conv2D name=expanded_conv_4_squeeze_excite_conv_1, built=True> Trainable? : False\n",
            "Layer: <ReLU name=re_lu_63, built=True> Trainable? : False\n",
            "Layer: <Multiply name=expanded_conv_4_squeeze_excite_mul, built=True> Trainable? : False\n",
            "Layer: <Conv2D name=expanded_conv_4_project, built=True> Trainable? : False\n",
            "Layer: <BatchNormalization name=expanded_conv_4_project_bn, built=True> Trainable? : False\n",
            "Layer: <Add name=expanded_conv_4_add, built=True> Trainable? : False\n",
            "Layer: <Conv2D name=expanded_conv_5_expand, built=True> Trainable? : False\n",
            "Layer: <BatchNormalization name=expanded_conv_5_expand_bn, built=True> Trainable? : False\n",
            "Layer: <Activation name=activation_77, built=True> Trainable? : False\n",
            "Layer: <DepthwiseConv2D name=expanded_conv_5_depthwise, built=True> Trainable? : False\n",
            "Layer: <BatchNormalization name=expanded_conv_5_depthwise_bn, built=True> Trainable? : False\n",
            "Layer: <Activation name=activation_78, built=True> Trainable? : False\n",
            "Layer: <GlobalAveragePooling2D name=expanded_conv_5_squeeze_excite_avg_pool, built=True> Trainable? : False\n",
            "Layer: <Conv2D name=expanded_conv_5_squeeze_excite_conv, built=True> Trainable? : False\n",
            "Layer: <ReLU name=expanded_conv_5_squeeze_excite_relu, built=True> Trainable? : False\n",
            "Layer: <Conv2D name=expanded_conv_5_squeeze_excite_conv_1, built=True> Trainable? : False\n",
            "Layer: <ReLU name=re_lu_64, built=True> Trainable? : False\n",
            "Layer: <Multiply name=expanded_conv_5_squeeze_excite_mul, built=True> Trainable? : False\n",
            "Layer: <Conv2D name=expanded_conv_5_project, built=True> Trainable? : False\n",
            "Layer: <BatchNormalization name=expanded_conv_5_project_bn, built=True> Trainable? : False\n",
            "Layer: <Add name=expanded_conv_5_add, built=True> Trainable? : False\n",
            "Layer: <Conv2D name=expanded_conv_6_expand, built=True> Trainable? : False\n",
            "Layer: <BatchNormalization name=expanded_conv_6_expand_bn, built=True> Trainable? : False\n",
            "Layer: <Activation name=activation_79, built=True> Trainable? : False\n",
            "Layer: <DepthwiseConv2D name=expanded_conv_6_depthwise, built=True> Trainable? : False\n",
            "Layer: <BatchNormalization name=expanded_conv_6_depthwise_bn, built=True> Trainable? : False\n",
            "Layer: <Activation name=activation_80, built=True> Trainable? : False\n",
            "Layer: <GlobalAveragePooling2D name=expanded_conv_6_squeeze_excite_avg_pool, built=True> Trainable? : False\n",
            "Layer: <Conv2D name=expanded_conv_6_squeeze_excite_conv, built=True> Trainable? : False\n",
            "Layer: <ReLU name=expanded_conv_6_squeeze_excite_relu, built=True> Trainable? : False\n",
            "Layer: <Conv2D name=expanded_conv_6_squeeze_excite_conv_1, built=True> Trainable? : False\n",
            "Layer: <ReLU name=re_lu_65, built=True> Trainable? : False\n",
            "Layer: <Multiply name=expanded_conv_6_squeeze_excite_mul, built=True> Trainable? : False\n",
            "Layer: <Conv2D name=expanded_conv_6_project, built=True> Trainable? : False\n",
            "Layer: <BatchNormalization name=expanded_conv_6_project_bn, built=True> Trainable? : False\n",
            "Layer: <Conv2D name=expanded_conv_7_expand, built=True> Trainable? : False\n",
            "Layer: <BatchNormalization name=expanded_conv_7_expand_bn, built=True> Trainable? : False\n",
            "Layer: <Activation name=activation_81, built=True> Trainable? : False\n",
            "Layer: <DepthwiseConv2D name=expanded_conv_7_depthwise, built=True> Trainable? : False\n",
            "Layer: <BatchNormalization name=expanded_conv_7_depthwise_bn, built=True> Trainable? : False\n",
            "Layer: <Activation name=activation_82, built=True> Trainable? : False\n",
            "Layer: <GlobalAveragePooling2D name=expanded_conv_7_squeeze_excite_avg_pool, built=True> Trainable? : False\n",
            "Layer: <Conv2D name=expanded_conv_7_squeeze_excite_conv, built=True> Trainable? : False\n",
            "Layer: <ReLU name=expanded_conv_7_squeeze_excite_relu, built=True> Trainable? : False\n",
            "Layer: <Conv2D name=expanded_conv_7_squeeze_excite_conv_1, built=True> Trainable? : False\n",
            "Layer: <ReLU name=re_lu_66, built=True> Trainable? : False\n",
            "Layer: <Multiply name=expanded_conv_7_squeeze_excite_mul, built=True> Trainable? : False\n",
            "Layer: <Conv2D name=expanded_conv_7_project, built=True> Trainable? : False\n",
            "Layer: <BatchNormalization name=expanded_conv_7_project_bn, built=True> Trainable? : False\n",
            "Layer: <Add name=expanded_conv_7_add, built=True> Trainable? : False\n",
            "Layer: <Conv2D name=expanded_conv_8_expand, built=True> Trainable? : False\n",
            "Layer: <BatchNormalization name=expanded_conv_8_expand_bn, built=True> Trainable? : False\n",
            "Layer: <Activation name=activation_83, built=True> Trainable? : False\n",
            "Layer: <ZeroPadding2D name=expanded_conv_8_depthwise_pad, built=True> Trainable? : False\n",
            "Layer: <DepthwiseConv2D name=expanded_conv_8_depthwise, built=True> Trainable? : False\n",
            "Layer: <BatchNormalization name=expanded_conv_8_depthwise_bn, built=True> Trainable? : False\n",
            "Layer: <Activation name=activation_84, built=True> Trainable? : False\n",
            "Layer: <GlobalAveragePooling2D name=expanded_conv_8_squeeze_excite_avg_pool, built=True> Trainable? : False\n",
            "Layer: <Conv2D name=expanded_conv_8_squeeze_excite_conv, built=True> Trainable? : False\n",
            "Layer: <ReLU name=expanded_conv_8_squeeze_excite_relu, built=True> Trainable? : False\n",
            "Layer: <Conv2D name=expanded_conv_8_squeeze_excite_conv_1, built=True> Trainable? : False\n",
            "Layer: <ReLU name=re_lu_67, built=True> Trainable? : False\n",
            "Layer: <Multiply name=expanded_conv_8_squeeze_excite_mul, built=True> Trainable? : False\n",
            "Layer: <Conv2D name=expanded_conv_8_project, built=True> Trainable? : False\n",
            "Layer: <BatchNormalization name=expanded_conv_8_project_bn, built=True> Trainable? : False\n",
            "Layer: <Conv2D name=expanded_conv_9_expand, built=True> Trainable? : False\n",
            "Layer: <BatchNormalization name=expanded_conv_9_expand_bn, built=True> Trainable? : False\n",
            "Layer: <Activation name=activation_85, built=True> Trainable? : False\n",
            "Layer: <DepthwiseConv2D name=expanded_conv_9_depthwise, built=True> Trainable? : False\n",
            "Layer: <BatchNormalization name=expanded_conv_9_depthwise_bn, built=True> Trainable? : False\n",
            "Layer: <Activation name=activation_86, built=True> Trainable? : False\n",
            "Layer: <GlobalAveragePooling2D name=expanded_conv_9_squeeze_excite_avg_pool, built=True> Trainable? : False\n",
            "Layer: <Conv2D name=expanded_conv_9_squeeze_excite_conv, built=True> Trainable? : False\n",
            "Layer: <ReLU name=expanded_conv_9_squeeze_excite_relu, built=True> Trainable? : False\n",
            "Layer: <Conv2D name=expanded_conv_9_squeeze_excite_conv_1, built=True> Trainable? : False\n",
            "Layer: <ReLU name=re_lu_68, built=True> Trainable? : False\n",
            "Layer: <Multiply name=expanded_conv_9_squeeze_excite_mul, built=True> Trainable? : False\n",
            "Layer: <Conv2D name=expanded_conv_9_project, built=True> Trainable? : False\n",
            "Layer: <BatchNormalization name=expanded_conv_9_project_bn, built=True> Trainable? : False\n",
            "Layer: <Add name=expanded_conv_9_add, built=True> Trainable? : False\n",
            "Layer: <Conv2D name=expanded_conv_10_expand, built=True> Trainable? : False\n",
            "Layer: <BatchNormalization name=expanded_conv_10_expand_bn, built=True> Trainable? : False\n",
            "Layer: <Activation name=activation_87, built=True> Trainable? : False\n",
            "Layer: <DepthwiseConv2D name=expanded_conv_10_depthwise, built=True> Trainable? : False\n",
            "Layer: <BatchNormalization name=expanded_conv_10_depthwise_bn, built=True> Trainable? : False\n",
            "Layer: <Activation name=activation_88, built=True> Trainable? : False\n",
            "Layer: <GlobalAveragePooling2D name=expanded_conv_10_squeeze_excite_avg_pool, built=True> Trainable? : False\n",
            "Layer: <Conv2D name=expanded_conv_10_squeeze_excite_conv, built=True> Trainable? : False\n",
            "Layer: <ReLU name=expanded_conv_10_squeeze_excite_relu, built=True> Trainable? : False\n",
            "Layer: <Conv2D name=expanded_conv_10_squeeze_excite_conv_1, built=True> Trainable? : False\n",
            "Layer: <ReLU name=re_lu_69, built=True> Trainable? : False\n",
            "Layer: <Multiply name=expanded_conv_10_squeeze_excite_mul, built=True> Trainable? : False\n",
            "Layer: <Conv2D name=expanded_conv_10_project, built=True> Trainable? : False\n",
            "Layer: <BatchNormalization name=expanded_conv_10_project_bn, built=True> Trainable? : True\n",
            "Layer: <Add name=expanded_conv_10_add, built=True> Trainable? : True\n",
            "Layer: <Conv2D name=conv_1, built=True> Trainable? : True\n",
            "Layer: <BatchNormalization name=conv_1_bn, built=True> Trainable? : True\n",
            "Layer: <Activation name=activation_89, built=True> Trainable? : True\n"
          ]
        }
      ]
    },
    {
      "cell_type": "code",
      "source": [
        "model.compile(loss='categorical_crossentropy',\n",
        "              optimizer = tf.keras.optimizers.Adam(),\n",
        "              metrics=['accuracy'])\n",
        "\n",
        "model.load_weights(checkpoint_path)\n",
        "history_1 = model.fit(train_data_10_percent,\n",
        "          validation_data=test_data,\n",
        "          epochs=5)"
      ],
      "metadata": {
        "colab": {
          "base_uri": "https://localhost:8080/"
        },
        "id": "6_veB2WHr_cZ",
        "outputId": "2491a8c5-f502-4c3b-b8f2-f09a698bab94"
      },
      "execution_count": null,
      "outputs": [
        {
          "output_type": "stream",
          "name": "stdout",
          "text": [
            "Epoch 1/5\n"
          ]
        },
        {
          "output_type": "stream",
          "name": "stderr",
          "text": [
            "/usr/local/lib/python3.11/dist-packages/keras/src/saving/saving_lib.py:713: UserWarning: Skipping variable loading for optimizer 'adam', because it has 2 variables whereas the saved optimizer has 6 variables. \n",
            "  saveable.load_own_variables(weights_store.get(inner_path))\n"
          ]
        },
        {
          "output_type": "stream",
          "name": "stdout",
          "text": [
            "\u001b[1m237/237\u001b[0m \u001b[32m━━━━━━━━━━━━━━━━━━━━\u001b[0m\u001b[37m\u001b[0m \u001b[1m72s\u001b[0m 273ms/step - accuracy: 0.4168 - loss: 2.3932 - val_accuracy: 0.4500 - val_loss: 2.1743\n",
            "Epoch 2/5\n",
            "\u001b[1m237/237\u001b[0m \u001b[32m━━━━━━━━━━━━━━━━━━━━\u001b[0m\u001b[37m\u001b[0m \u001b[1m83s\u001b[0m 279ms/step - accuracy: 0.4824 - loss: 2.0505 - val_accuracy: 0.4897 - val_loss: 1.9850\n",
            "Epoch 3/5\n",
            "\u001b[1m237/237\u001b[0m \u001b[32m━━━━━━━━━━━━━━━━━━━━\u001b[0m\u001b[37m\u001b[0m \u001b[1m81s\u001b[0m 275ms/step - accuracy: 0.5058 - loss: 1.9122 - val_accuracy: 0.4956 - val_loss: 1.9550\n",
            "Epoch 4/5\n",
            "\u001b[1m237/237\u001b[0m \u001b[32m━━━━━━━━━━━━━━━━━━━━\u001b[0m\u001b[37m\u001b[0m \u001b[1m77s\u001b[0m 257ms/step - accuracy: 0.5226 - loss: 1.8428 - val_accuracy: 0.5095 - val_loss: 1.9068\n",
            "Epoch 5/5\n",
            "\u001b[1m237/237\u001b[0m \u001b[32m━━━━━━━━━━━━━━━━━━━━\u001b[0m\u001b[37m\u001b[0m \u001b[1m83s\u001b[0m 262ms/step - accuracy: 0.5530 - loss: 1.7254 - val_accuracy: 0.5105 - val_loss: 1.8991\n"
          ]
        }
      ]
    },
    {
      "cell_type": "code",
      "source": [
        "model.evaluate(test_data)"
      ],
      "metadata": {
        "colab": {
          "base_uri": "https://localhost:8080/"
        },
        "id": "oo11_ZSFsfxE",
        "outputId": "063716f1-32bc-47ee-df45-c0b95deca93f"
      },
      "execution_count": null,
      "outputs": [
        {
          "output_type": "stream",
          "name": "stdout",
          "text": [
            "\u001b[1m790/790\u001b[0m \u001b[32m━━━━━━━━━━━━━━━━━━━━\u001b[0m\u001b[37m\u001b[0m \u001b[1m47s\u001b[0m 59ms/step - accuracy: 0.4624 - loss: 2.1037\n"
          ]
        },
        {
          "output_type": "execute_result",
          "data": {
            "text/plain": [
              "[1.8990875482559204, 0.5104950666427612]"
            ]
          },
          "metadata": {},
          "execution_count": 33
        }
      ]
    },
    {
      "cell_type": "code",
      "source": [
        "import matplotlib.pyplot as plt\n",
        "def compare_historys(original_history, new_history, initial_epochs=5):\n",
        "    \"\"\"\n",
        "    Compares two TensorFlow model History objects.\n",
        "\n",
        "    Args:\n",
        "      original_history: History object from original model (before new_history)\n",
        "      new_history: History object from continued model training (after original_history)\n",
        "      initial_epochs: Number of epochs in original_history (new_history plot starts from here)\n",
        "    \"\"\"\n",
        "\n",
        "    # Get original history measurements\n",
        "    acc = original_history.history[\"accuracy\"]\n",
        "    loss = original_history.history[\"loss\"]\n",
        "\n",
        "    val_acc = original_history.history[\"val_accuracy\"]\n",
        "    val_loss = original_history.history[\"val_loss\"]\n",
        "\n",
        "    # Combine original history with new history\n",
        "    total_acc = acc + new_history.history[\"accuracy\"]\n",
        "    total_loss = loss + new_history.history[\"loss\"]\n",
        "\n",
        "    total_val_acc = val_acc + new_history.history[\"val_accuracy\"]\n",
        "    total_val_loss = val_loss + new_history.history[\"val_loss\"]\n",
        "\n",
        "    # Make plots\n",
        "    plt.figure(figsize=(8, 8))\n",
        "    plt.subplot(2, 1, 1)\n",
        "    plt.plot(total_acc, label='Training Accuracy')\n",
        "    plt.plot(total_val_acc, label='Validation Accuracy')\n",
        "    plt.plot([initial_epochs-1, initial_epochs-1],\n",
        "              plt.ylim(), label='Start Fine Tuning') # reshift plot around epochs\n",
        "    plt.legend(loc='lower right')\n",
        "    plt.title('Training and Validation Accuracy')\n",
        "\n",
        "    plt.subplot(2, 1, 2)\n",
        "    plt.plot(total_loss, label='Training Loss')\n",
        "    plt.plot(total_val_loss, label='Validation Loss')\n",
        "    plt.plot([initial_epochs-1, initial_epochs-1],\n",
        "              plt.ylim(), label='Start Fine Tuning') # reshift plot around epochs\n",
        "    plt.legend(loc='upper right')\n",
        "    plt.title('Training and Validation Loss')\n",
        "    plt.xlabel('epoch')\n",
        "    plt.show()\n"
      ],
      "metadata": {
        "id": "zqts6nT8ulyq"
      },
      "execution_count": null,
      "outputs": []
    },
    {
      "cell_type": "code",
      "source": [
        "compare_historys(original_history=history_0,\n",
        "                 new_history=history_1,\n",
        "                 initial_epochs=5)"
      ],
      "metadata": {
        "colab": {
          "base_uri": "https://localhost:8080/",
          "height": 718
        },
        "id": "U8mCRJgxvXQ6",
        "outputId": "6f2def7e-0e77-42fd-a803-42b6b704c431"
      },
      "execution_count": null,
      "outputs": [
        {
          "output_type": "display_data",
          "data": {
            "text/plain": [
              "<Figure size 800x800 with 2 Axes>"
            ],
            "image/png": "[encoded data removed]"
          },
          "metadata": {}
        }
      ]
    },
    {
      "cell_type": "markdown",
      "source": [
        "### Saving this model"
      ],
      "metadata": {
        "id": "wIry4_q6v3Ju"
      }
    },
    {
      "cell_type": "code",
      "source": [
        "import tensorflow as tf\n",
        "from google.colab import drive\n",
        "# drive.mount('/content/drive')\n",
        "import os\n",
        "\n",
        "# Create the directory if it doesn't exist\n",
        "os.makedirs('/content/drive/MyDrive/tensorflow_course', exist_ok=True)\n",
        "\n",
        "model.save('/content/drive/MyDrive/tensorflow_course/101_food_class_10_percent_model_1.keras')\n"
      ],
      "metadata": {
        "id": "FPShAoH1v56S"
      },
      "execution_count": null,
      "outputs": []
    },
    {
      "cell_type": "code",
      "source": [
        "saved_model_path = '/content/drive/MyDrive/tensorflow_course/101_food_class_10_percent_model_1.keras'\n",
        "\n",
        "model = tf.keras.models.load_model(saved_model_path)"
      ],
      "metadata": {
        "id": "BQVkblftwURh"
      },
      "execution_count": null,
      "outputs": []
    },
    {
      "cell_type": "code",
      "source": [
        "model.evaluate(test_data)"
      ],
      "metadata": {
        "colab": {
          "base_uri": "https://localhost:8080/"
        },
        "id": "3kG9lFDez3v6",
        "outputId": "9a318ade-2353-4a9d-ec42-2c32647b6cfa"
      },
      "execution_count": null,
      "outputs": [
        {
          "output_type": "stream",
          "name": "stdout",
          "text": [
            "\u001b[1m790/790\u001b[0m \u001b[32m━━━━━━━━━━━━━━━━━━━━\u001b[0m\u001b[37m\u001b[0m \u001b[1m48s\u001b[0m 58ms/step - accuracy: 0.4624 - loss: 2.1037\n"
          ]
        },
        {
          "output_type": "execute_result",
          "data": {
            "text/plain": [
              "[1.8990875482559204, 0.5104950666427612]"
            ]
          },
          "metadata": {},
          "execution_count": 47
        }
      ]
    },
    {
      "cell_type": "code",
      "source": [],
      "metadata": {
        "id": "TfT6hLY8z7mN"
      },
      "execution_count": null,
      "outputs": []
    }
  ]
}