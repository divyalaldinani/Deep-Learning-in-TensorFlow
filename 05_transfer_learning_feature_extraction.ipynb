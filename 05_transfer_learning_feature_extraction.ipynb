{
  "nbformat": 4,
  "nbformat_minor": 0,
  "metadata": {
    "colab": {
      "provenance": [],
      "gpuType": "T4",
      "authorship_tag": "ABX9TyNir4KCsMxWW42VCvQPbUFz",
      "include_colab_link": true
    },
    "kernelspec": {
      "name": "python3",
      "display_name": "Python 3"
    },
    "language_info": {
      "name": "python"
    },
    "accelerator": "GPU"
  },
  "cells": [
    {
      "cell_type": "markdown",
      "metadata": {
        "id": "view-in-github",
        "colab_type": "text"
      },
      "source": [
        "<a href=\"https://colab.research.google.com/github/divyalaldinani/Deep-Learning-in-TensorFlow/blob/main/05_transfer_learning_feature_extraction.ipynb\" target=\"_parent\"><img src=\"https://colab.research.google.com/assets/colab-badge.svg\" alt=\"Open In Colab\"/></a>"
      ]
    },
    {
      "cell_type": "code",
      "execution_count": null,
      "metadata": {
        "id": "pT3chGiKIWkg",
        "outputId": "55478412-5ccc-455b-8af8-398a13a3feb7",
        "colab": {
          "base_uri": "https://localhost:8080/"
        }
      },
      "outputs": [
        {
          "output_type": "stream",
          "name": "stdout",
          "text": [
            "/bin/bash: line 1: nvidia-smi: command not found\n"
          ]
        }
      ],
      "source": [
        "!nvidia-smi"
      ]
    },
    {
      "cell_type": "code",
      "source": [
        "!nvidia-smi"
      ],
      "metadata": {
        "id": "9tQcA1wDcdwo",
        "colab": {
          "base_uri": "https://localhost:8080/"
        },
        "outputId": "b0abe843-9acb-43b8-d79f-effd37b9c736"
      },
      "execution_count": 2,
      "outputs": [
        {
          "output_type": "stream",
          "name": "stdout",
          "text": [
            "/bin/bash: line 1: nvidia-smi: command not found\n"
          ]
        }
      ]
    },
    {
      "cell_type": "code",
      "source": [
        "!wget https://github.com/divyalaldinani/Deep-Learning-in-TensorFlow/blob/main/extras/helper_functions.py"
      ],
      "metadata": {
        "colab": {
          "base_uri": "https://localhost:8080/"
        },
        "id": "3kyxoDOJjJCm",
        "outputId": "937cba6c-4a49-47bf-e0f9-67b6dc8ce692"
      },
      "execution_count": 7,
      "outputs": [
        {
          "output_type": "stream",
          "name": "stdout",
          "text": [
            "--2025-01-14 16:06:01--  https://github.com/divyalaldinani/Deep-Learning-in-TensorFlow/blob/main/extras/helper_functions.py\n",
            "Resolving github.com (github.com)... 140.82.114.3\n",
            "Connecting to github.com (github.com)|140.82.114.3|:443... connected.\n",
            "HTTP request sent, awaiting response... 200 OK\n",
            "Length: unspecified [text/html]\n",
            "Saving to: ‘helper_functions.py.1’\n",
            "\n",
            "helper_functions.py     [  <=>               ] 281.16K   852KB/s    in 0.3s    \n",
            "\n",
            "2025-01-14 16:06:02 (852 KB/s) - ‘helper_functions.py.1’ saved [287912]\n",
            "\n"
          ]
        }
      ]
    },
    {
      "cell_type": "code",
      "source": [
        "from helper_functions import pred_and_plot, plot_loss_curves, unzip_folder, walk_through_directory"
      ],
      "metadata": {
        "id": "v0zM6RPcjLHq"
      },
      "execution_count": 10,
      "outputs": []
    },
    {
      "cell_type": "markdown",
      "source": [
        "### Downloading the dataset"
      ],
      "metadata": {
        "id": "InUlp_5Rjm7p"
      }
    },
    {
      "cell_type": "code",
      "source": [
        "!wget https://storage.googleapis.com/ztm_tf_course/food_vision/10_food_classes_10_percent.zip\n",
        "\n",
        "unzip_folder(\"10_food_classes_10_percent.zip\")"
      ],
      "metadata": {
        "colab": {
          "base_uri": "https://localhost:8080/"
        },
        "id": "UqaAKho2kpft",
        "outputId": "8edb5d13-e165-4ef4-c935-578f91b7d15f"
      },
      "execution_count": 12,
      "outputs": [
        {
          "output_type": "stream",
          "name": "stdout",
          "text": [
            "--2025-01-14 16:08:46--  https://storage.googleapis.com/ztm_tf_course/food_vision/10_food_classes_10_percent.zip\n",
            "Resolving storage.googleapis.com (storage.googleapis.com)... 74.125.137.207, 142.250.101.207, 142.251.2.207, ...\n",
            "Connecting to storage.googleapis.com (storage.googleapis.com)|74.125.137.207|:443... connected.\n",
            "HTTP request sent, awaiting response... 200 OK\n",
            "Length: 168546183 (161M) [application/zip]\n",
            "Saving to: ‘10_food_classes_10_percent.zip.1’\n",
            "\n",
            "10_food_classes_10_ 100%[===================>] 160.74M   258MB/s    in 0.6s    \n",
            "\n",
            "2025-01-14 16:08:47 (258 MB/s) - ‘10_food_classes_10_percent.zip.1’ saved [168546183/168546183]\n",
            "\n"
          ]
        }
      ]
    },
    {
      "cell_type": "code",
      "source": [
        "walk_through_directory('/content/10_food_classes_10_percent')"
      ],
      "metadata": {
        "colab": {
          "base_uri": "https://localhost:8080/"
        },
        "id": "Q51oFCgSkuSg",
        "outputId": "7a59976c-7d0c-485e-cb5d-696e0ff4bdff"
      },
      "execution_count": 14,
      "outputs": [
        {
          "output_type": "stream",
          "name": "stdout",
          "text": [
            "2 directories and 0 files in /content/10_food_classes_10_percent\n",
            "10 directories and 0 files in /content/10_food_classes_10_percent/test\n",
            "0 directories and 250 files in /content/10_food_classes_10_percent/test/chicken_curry\n",
            "0 directories and 250 files in /content/10_food_classes_10_percent/test/ice_cream\n",
            "0 directories and 250 files in /content/10_food_classes_10_percent/test/steak\n",
            "0 directories and 250 files in /content/10_food_classes_10_percent/test/hamburger\n",
            "0 directories and 250 files in /content/10_food_classes_10_percent/test/grilled_salmon\n",
            "0 directories and 250 files in /content/10_food_classes_10_percent/test/sushi\n",
            "0 directories and 250 files in /content/10_food_classes_10_percent/test/pizza\n",
            "0 directories and 250 files in /content/10_food_classes_10_percent/test/ramen\n",
            "0 directories and 250 files in /content/10_food_classes_10_percent/test/fried_rice\n",
            "0 directories and 250 files in /content/10_food_classes_10_percent/test/chicken_wings\n",
            "10 directories and 0 files in /content/10_food_classes_10_percent/train\n",
            "0 directories and 75 files in /content/10_food_classes_10_percent/train/chicken_curry\n",
            "0 directories and 75 files in /content/10_food_classes_10_percent/train/ice_cream\n",
            "0 directories and 75 files in /content/10_food_classes_10_percent/train/steak\n",
            "0 directories and 75 files in /content/10_food_classes_10_percent/train/hamburger\n",
            "0 directories and 75 files in /content/10_food_classes_10_percent/train/grilled_salmon\n",
            "0 directories and 75 files in /content/10_food_classes_10_percent/train/sushi\n",
            "0 directories and 75 files in /content/10_food_classes_10_percent/train/pizza\n",
            "0 directories and 75 files in /content/10_food_classes_10_percent/train/ramen\n",
            "0 directories and 75 files in /content/10_food_classes_10_percent/train/fried_rice\n",
            "0 directories and 75 files in /content/10_food_classes_10_percent/train/chicken_wings\n"
          ]
        }
      ]
    },
    {
      "cell_type": "code",
      "source": [
        "train_dir = '/content/10_food_classes_10_percent/train'\n",
        "test_dir = '/content/10_food_classes_10_percent/test'"
      ],
      "metadata": {
        "id": "kie6wY8Ak5OV"
      },
      "execution_count": 15,
      "outputs": []
    },
    {
      "cell_type": "markdown",
      "source": [
        "#### Input Data Pipelines\n",
        "**using tf.keras.preprocessing.image_dataset_from_directory() -> creates tf.data.Dataset object, explore [here](https://www.tensorflow.org/api_docs/python/tf/keras/preprocessing/image_dataset_from_directory)**"
      ],
      "metadata": {
        "id": "1NzhtafWl5-H"
      }
    },
    {
      "cell_type": "code",
      "source": [
        "import tensorflow as tf\n",
        "# from tensorflow.keras.preprocessing.image import ImageDataGenerator\n",
        "\n",
        "BATCH_SIZE= 32\n",
        "IMAGE_SIZE = (224, 224)\n",
        "\n",
        "train_data_10_percent = tf.keras.preprocessing.image_dataset_from_directory(directory=train_dir,\n",
        "                                                                         batch_size=BATCH_SIZE,\n",
        "                                                                         image_size=IMAGE_SIZE,\n",
        "                                                                         shuffle=True,\n",
        "                                                                         label_mode='categorical' # one hot encoded\n",
        "                                                                         )\n",
        "\n",
        "test_data = tf.keras.preprocessing.image_dataset_from_directory(directory=test_dir,\n",
        "                                                             batch_size=BATCH_SIZE,\n",
        "                                                             image_size = IMAGE_SIZE,\n",
        "                                                             shuffle=True,\n",
        "                                                             label_mode='categorical')"
      ],
      "metadata": {
        "colab": {
          "base_uri": "https://localhost:8080/"
        },
        "id": "Ei0PycqUlBLt",
        "outputId": "c7e488c1-83a5-4b50-e683-035efcee5c39"
      },
      "execution_count": 19,
      "outputs": [
        {
          "output_type": "stream",
          "name": "stdout",
          "text": [
            "Found 750 files belonging to 10 classes.\n",
            "Found 2500 files belonging to 10 classes.\n"
          ]
        }
      ]
    },
    {
      "cell_type": "code",
      "source": [
        "train_data_10_percent"
      ],
      "metadata": {
        "colab": {
          "base_uri": "https://localhost:8080/"
        },
        "id": "QQDh6Ic9oROU",
        "outputId": "c90407c6-6f85-4eb6-b735-bbf07499865e"
      },
      "execution_count": 20,
      "outputs": [
        {
          "output_type": "execute_result",
          "data": {
            "text/plain": [
              "<_PrefetchDataset element_spec=(TensorSpec(shape=(None, 224, 224, 3), dtype=tf.float32, name=None), TensorSpec(shape=(None, 10), dtype=tf.float32, name=None))>"
            ]
          },
          "metadata": {},
          "execution_count": 20
        }
      ]
    },
    {
      "cell_type": "code",
      "source": [
        "train_data_10_percent.class_names"
      ],
      "metadata": {
        "colab": {
          "base_uri": "https://localhost:8080/"
        },
        "id": "1OEfsRXBoi0Z",
        "outputId": "d318c56c-1046-40a5-adaa-2581f62643f9"
      },
      "execution_count": 21,
      "outputs": [
        {
          "output_type": "execute_result",
          "data": {
            "text/plain": [
              "['chicken_curry',\n",
              " 'chicken_wings',\n",
              " 'fried_rice',\n",
              " 'grilled_salmon',\n",
              " 'hamburger',\n",
              " 'ice_cream',\n",
              " 'pizza',\n",
              " 'ramen',\n",
              " 'steak',\n",
              " 'sushi']"
            ]
          },
          "metadata": {},
          "execution_count": 21
        }
      ]
    },
    {
      "cell_type": "code",
      "source": [
        "# see a batch of Data\n",
        "\n",
        "for images, labels in train_data_10_percent.take(1):\n",
        "    print(images, labels)"
      ],
      "metadata": {
        "colab": {
          "base_uri": "https://localhost:8080/"
        },
        "id": "q0ukPLkyopAs",
        "outputId": "441f1d05-ac9c-4cc4-a3d0-506b417181fd"
      },
      "execution_count": 23,
      "outputs": [
        {
          "output_type": "stream",
          "name": "stdout",
          "text": [
            "tf.Tensor(\n",
            "[[[[8.99799118e+01 8.25637741e+01 1.01812180e+02]\n",
            "   [7.47889023e+01 6.79008331e+01 8.58220673e+01]\n",
            "   [6.60758896e+01 6.18223839e+01 7.72110901e+01]\n",
            "   ...\n",
            "   [1.33571424e+01 1.23571424e+01 1.73571434e+01]\n",
            "   [1.33571424e+01 1.23571424e+01 1.73571434e+01]\n",
            "   [1.32311926e+01 1.42311926e+01 1.82311916e+01]]\n",
            "\n",
            "  [[7.46125641e+01 7.08686218e+01 9.30918350e+01]\n",
            "   [8.22959213e+01 7.92691345e+01 1.00023598e+02]\n",
            "   [7.16910095e+01 7.05481567e+01 8.84767227e+01]\n",
            "   ...\n",
            "   [1.30000000e+01 1.20000000e+01 1.70000000e+01]\n",
            "   [1.30000000e+01 1.20000000e+01 1.70000000e+01]\n",
            "   [1.26011009e+01 1.36011009e+01 1.76011009e+01]]\n",
            "\n",
            "  [[8.86648636e+01 8.96600723e+01 1.15735970e+02]\n",
            "   [8.37662659e+01 8.61948395e+01 1.11532211e+02]\n",
            "   [8.56744232e+01 8.81029968e+01 1.11960136e+02]\n",
            "   ...\n",
            "   [1.38364210e+01 1.28364210e+01 1.78364220e+01]\n",
            "   [1.40000000e+01 1.30000000e+01 1.80000000e+01]\n",
            "   [1.37857141e+01 1.47857141e+01 1.87857132e+01]]\n",
            "\n",
            "  ...\n",
            "\n",
            "  [[1.90755653e+01 1.20755663e+01 4.07556629e+00]\n",
            "   [1.92018280e+01 1.22018290e+01 4.20182896e+00]\n",
            "   [1.84001751e+01 1.14001741e+01 3.40017462e+00]\n",
            "   ...\n",
            "   [7.09172211e+01 8.91314850e+01 1.27560013e+02]\n",
            "   [5.75088615e+01 7.63286285e+01 1.12671349e+02]\n",
            "   [3.04589252e+01 5.03159790e+01 8.17272339e+01]]\n",
            "\n",
            "  [[2.09285583e+01 1.39285583e+01 5.92855835e+00]\n",
            "   [1.99285583e+01 1.29285583e+01 4.92855835e+00]\n",
            "   [1.99285583e+01 1.29285583e+01 4.92855835e+00]\n",
            "   ...\n",
            "   [5.40877495e+01 6.85261307e+01 1.01003731e+02]\n",
            "   [3.51433601e+01 4.88078690e+01 7.59467621e+01]\n",
            "   [2.42514782e+01 3.53183708e+01 5.78093681e+01]]\n",
            "\n",
            "  [[1.97732906e+01 1.27732906e+01 4.77329016e+00]\n",
            "   [1.83364487e+01 1.13364487e+01 3.33644867e+00]\n",
            "   [1.82726669e+01 1.12726669e+01 3.27266693e+00]\n",
            "   ...\n",
            "   [3.31408157e+01 4.30061455e+01 7.00066605e+01]\n",
            "   [2.43985920e+01 3.01408710e+01 5.16378479e+01]\n",
            "   [2.55209541e+01 2.87431374e+01 4.57341042e+01]]]\n",
            "\n",
            "\n",
            " [[[1.85867348e+01 1.95867348e+01 1.15867348e+01]\n",
            "   [2.02857151e+01 2.12857151e+01 1.32857141e+01]\n",
            "   [2.20765305e+01 2.30765305e+01 1.50765305e+01]\n",
            "   ...\n",
            "   [5.71631050e+01 4.85916328e+01 3.93773689e+01]\n",
            "   [5.68469772e+01 4.65867233e+01 3.66581650e+01]\n",
            "   [6.36021919e+01 4.89133492e+01 3.81429634e+01]]\n",
            "\n",
            "  [[1.99285717e+01 2.09285717e+01 1.29285717e+01]\n",
            "   [1.99285717e+01 2.09285717e+01 1.29285717e+01]\n",
            "   [2.07857151e+01 2.17857151e+01 1.37857141e+01]\n",
            "   ...\n",
            "   [7.09337311e+01 6.23622589e+01 5.31479950e+01]\n",
            "   [5.95816078e+01 4.97244644e+01 3.96530380e+01]\n",
            "   [6.29898491e+01 5.12755661e+01 3.93469925e+01]]\n",
            "\n",
            "  [[1.82142868e+01 1.92142868e+01 1.12142859e+01]\n",
            "   [1.82142868e+01 1.92142868e+01 1.12142859e+01]\n",
            "   [1.72142868e+01 1.82142868e+01 1.02142859e+01]\n",
            "   ...\n",
            "   [5.28775864e+01 4.59898567e+01 3.47551498e+01]\n",
            "   [7.24488907e+01 6.60203171e+01 5.42346039e+01]\n",
            "   [5.77091408e+01 5.12805710e+01 3.94948540e+01]]\n",
            "\n",
            "  ...\n",
            "\n",
            "  [[1.01428566e+02 1.02428566e+02 9.64285660e+01]\n",
            "   [1.04642853e+02 1.05642853e+02 9.96428528e+01]\n",
            "   [1.08168358e+02 1.09168358e+02 1.03168358e+02]\n",
            "   ...\n",
            "   [1.10785675e+02 1.15785675e+02 1.09785675e+02]\n",
            "   [1.06372429e+02 1.11372429e+02 1.05372429e+02]\n",
            "   [1.03928467e+02 1.08928467e+02 1.02928467e+02]]\n",
            "\n",
            "  [[9.91173172e+01 1.00117317e+02 9.41173172e+01]\n",
            "   [1.02066292e+02 1.03066292e+02 9.70662918e+01]\n",
            "   [1.06285698e+02 1.07285698e+02 1.01285698e+02]\n",
            "   ...\n",
            "   [1.06627457e+02 1.11627457e+02 1.05627457e+02]\n",
            "   [1.03076515e+02 1.08076515e+02 1.02076515e+02]\n",
            "   [1.02402962e+02 1.07402962e+02 1.01402962e+02]]\n",
            "\n",
            "  [[9.82295990e+01 9.92295990e+01 9.32295990e+01]\n",
            "   [1.01857147e+02 1.02857147e+02 9.68571472e+01]\n",
            "   [1.06214287e+02 1.07214287e+02 1.01214287e+02]\n",
            "   ...\n",
            "   [1.00857117e+02 1.05857117e+02 9.98571167e+01]\n",
            "   [1.02765266e+02 1.07765266e+02 1.01765266e+02]\n",
            "   [9.77142944e+01 1.02714294e+02 9.67142944e+01]]]\n",
            "\n",
            "\n",
            " [[[6.57602005e+01 5.57602005e+01 2.87602043e+01]\n",
            "   [8.52857132e+01 7.82857132e+01 5.02857170e+01]\n",
            "   [8.19132690e+01 7.49132690e+01 4.89132690e+01]\n",
            "   ...\n",
            "   [9.99028397e+01 9.03313675e+01 8.01171036e+01]\n",
            "   [9.37600861e+01 8.37600861e+01 7.37600861e+01]\n",
            "   [1.20475220e+02 1.10475220e+02 1.00475220e+02]]\n",
            "\n",
            "  [[9.13010254e+01 8.13010254e+01 5.63010254e+01]\n",
            "   [6.00561180e+01 5.21938705e+01 2.87806091e+01]\n",
            "   [6.79234619e+01 5.99234657e+01 3.69234657e+01]\n",
            "   ...\n",
            "   [1.05755661e+02 9.61841888e+01 8.59699249e+01]\n",
            "   [1.19637360e+02 1.09637360e+02 9.96373596e+01]\n",
            "   [7.01074982e+01 6.01074982e+01 5.01074982e+01]]\n",
            "\n",
            "  [[7.23673477e+01 6.13673515e+01 3.97959213e+01]\n",
            "   [7.42397995e+01 6.62397995e+01 4.56683693e+01]\n",
            "   [9.26581573e+01 8.46581573e+01 6.40867310e+01]\n",
            "   ...\n",
            "   [8.04127197e+01 7.08412476e+01 5.86269798e+01]\n",
            "   [1.09648300e+02 9.96483002e+01 8.76483002e+01]\n",
            "   [1.29877411e+02 1.19877403e+02 1.07877403e+02]]\n",
            "\n",
            "  ...\n",
            "\n",
            "  [[1.14500389e+02 8.05003891e+01 6.86534348e+01]\n",
            "   [1.05520988e+02 7.25056839e+01 5.60923691e+01]\n",
            "   [1.17097710e+02 8.48834457e+01 6.43119736e+01]\n",
            "   ...\n",
            "   [3.27144165e+01 7.14294434e+00 6.35720825e+00]\n",
            "   [3.82296333e+01 1.34438963e+01 9.87242413e+00]\n",
            "   [3.78622971e+01 1.12858276e+01 8.35717773e+00]]\n",
            "\n",
            "  [[1.10448807e+02 7.44488068e+01 6.03569603e+01]\n",
            "   [1.08556023e+02 7.34897003e+01 5.46223412e+01]\n",
            "   [1.10959106e+02 7.62295303e+01 5.33876534e+01]\n",
            "   ...\n",
            "   [4.05000916e+01 1.31428833e+01 8.92861938e+00]\n",
            "   [4.17856750e+01 1.27856750e+01 8.51011658e+00]\n",
            "   [3.97398720e+01 1.07398729e+01 5.93366861e+00]]\n",
            "\n",
            "  [[1.08428185e+02 7.14281845e+01 5.49689598e+01]\n",
            "   [1.04571075e+02 6.79027405e+01 4.79791794e+01]\n",
            "   [1.01811089e+02 6.58110886e+01 4.08212357e+01]\n",
            "   ...\n",
            "   [4.12856750e+01 1.24999390e+01 6.92846680e+00]\n",
            "   [4.00968361e+01 1.10968370e+01 4.29063320e+00]\n",
            "   [4.18419304e+01 1.18419313e+01 3.84193134e+00]]]\n",
            "\n",
            "\n",
            " ...\n",
            "\n",
            "\n",
            " [[[4.35011139e+01 7.82198715e+01 7.19787979e+01]\n",
            "   [4.48158493e+01 7.94040146e+01 7.52433014e+01]\n",
            "   [4.74520073e+01 7.92075882e+01 7.85691986e+01]\n",
            "   ...\n",
            "   [1.45043503e+02 1.53257767e+02 1.37829239e+02]\n",
            "   [1.45143951e+02 1.56143951e+02 1.42143951e+02]\n",
            "   [1.35776596e+02 1.46776596e+02 1.32776596e+02]]\n",
            "\n",
            "  [[4.76026764e+01 7.84933014e+01 6.81272278e+01]\n",
            "   [4.92299118e+01 8.04274597e+01 7.31752243e+01]\n",
            "   [4.94609375e+01 8.06104889e+01 7.68973236e+01]\n",
            "   ...\n",
            "   [1.43156250e+02 1.51370514e+02 1.35941986e+02]\n",
            "   [1.38706436e+02 1.49706436e+02 1.35706436e+02]\n",
            "   [1.34893951e+02 1.45893951e+02 1.31893951e+02]]\n",
            "\n",
            "  [[4.70725441e+01 7.24609375e+01 5.37901764e+01]\n",
            "   [4.89397354e+01 7.67299118e+01 6.29709816e+01]\n",
            "   [4.60178566e+01 7.46305771e+01 6.49910736e+01]\n",
            "   ...\n",
            "   [1.42000000e+02 1.50214264e+02 1.34785736e+02]\n",
            "   [1.36610474e+02 1.47610474e+02 1.33610474e+02]\n",
            "   [1.34809158e+02 1.45809158e+02 1.31809158e+02]]\n",
            "\n",
            "  ...\n",
            "\n",
            "  [[1.80915177e+00 3.69977689e+00 7.40290165e+00]\n",
            "   [5.02230227e-02 1.66517830e+00 4.77455330e+00]\n",
            "   [0.00000000e+00 1.06361616e+00 4.17299128e+00]\n",
            "   ...\n",
            "   [2.08532364e+02 2.05829239e+02 1.89422989e+02]\n",
            "   [2.07468750e+02 2.04765625e+02 1.88359375e+02]\n",
            "   [2.06468750e+02 2.03765625e+02 1.87359375e+02]]\n",
            "\n",
            "  [[9.85490978e-01 4.98549128e+00 7.24218750e+00]\n",
            "   [0.00000000e+00 2.49330330e+00 3.49330330e+00]\n",
            "   [0.00000000e+00 1.09040189e+00 9.34151888e-01]\n",
            "   ...\n",
            "   [2.47340393e+02 2.47074768e+02 2.33809143e+02]\n",
            "   [2.46828125e+02 2.46562500e+02 2.33296875e+02]\n",
            "   [2.45828125e+02 2.46140625e+02 2.32296875e+02]]\n",
            "\n",
            "  [[1.88058007e+00 5.88057995e+00 5.87611580e+00]\n",
            "   [0.00000000e+00 2.07142830e+00 1.35267830e+00]\n",
            "   [0.00000000e+00 2.22767878e+00 0.00000000e+00]\n",
            "   ...\n",
            "   [2.46265625e+02 2.51562500e+02 2.39562500e+02]\n",
            "   [2.46265625e+02 2.51562500e+02 2.39562500e+02]\n",
            "   [2.46125000e+02 2.51562500e+02 2.39421875e+02]]]\n",
            "\n",
            "\n",
            " [[[1.82443878e+02 5.24438782e+01 3.21428585e+00]\n",
            "   [1.77596939e+02 4.95969353e+01 2.12244844e+00]\n",
            "   [1.72586746e+02 4.42959175e+01 2.51020455e+00]\n",
            "   ...\n",
            "   [2.43545761e+02 1.84836609e+02 8.51324921e+01]\n",
            "   [2.40719452e+02 1.82408234e+02 8.08418884e+01]\n",
            "   [2.43847031e+02 1.86489883e+02 8.20613174e+01]]\n",
            "\n",
            "  [[1.80500000e+02 5.12908173e+01 6.55102062e+00]\n",
            "   [1.77494904e+02 4.85663223e+01 6.34183550e+00]\n",
            "   [1.71525497e+02 4.34846954e+01 4.39795876e+00]\n",
            "   ...\n",
            "   [2.47704117e+02 1.93489838e+02 1.07204124e+02]\n",
            "   [2.35132568e+02 1.80989716e+02 9.24896927e+01]\n",
            "   [2.36587067e+02 1.82775879e+02 9.17043839e+01]]\n",
            "\n",
            "  [[1.70448975e+02 4.40765305e+01 3.15306139e+00]\n",
            "   [1.69882660e+02 4.45969391e+01 4.88265228e+00]\n",
            "   [1.63607132e+02 4.01275520e+01 2.67857289e+00]\n",
            "   ...\n",
            "   [2.16270187e+02 1.64504929e+02 8.55508118e+01]\n",
            "   [2.18239639e+02 1.67025345e+02 8.40100403e+01]\n",
            "   [2.07388458e+02 1.56454819e+02 7.25261765e+01]]\n",
            "\n",
            "  ...\n",
            "\n",
            "  [[2.37867325e+02 2.00142883e+02 1.54790878e+02]\n",
            "   [2.33857162e+02 1.96642899e+02 1.51214371e+02]\n",
            "   [2.34076538e+02 1.96908188e+02 1.51571487e+02]\n",
            "   ...\n",
            "   [2.34413254e+02 1.99770462e+02 1.28770462e+02]\n",
            "   [2.36285767e+02 1.97199020e+02 1.31556290e+02]\n",
            "   [2.44714172e+02 2.02285645e+02 1.41795914e+02]]\n",
            "\n",
            "  [[2.32836761e+02 1.98836761e+02 1.52836761e+02]\n",
            "   [2.33005096e+02 1.99005096e+02 1.53005096e+02]\n",
            "   [2.34397949e+02 2.00397949e+02 1.54397949e+02]\n",
            "   ...\n",
            "   [2.31750031e+02 1.98852081e+02 1.28122421e+02]\n",
            "   [2.34535812e+02 2.00336792e+02 1.29331696e+02]\n",
            "   [2.44004990e+02 2.05122360e+02 1.39693710e+02]]\n",
            "\n",
            "  [[2.34357071e+02 2.02714249e+02 1.55714249e+02]\n",
            "   [2.31974487e+02 1.99974487e+02 1.52974487e+02]\n",
            "   [2.35209274e+02 2.02780716e+02 1.55994995e+02]\n",
            "   ...\n",
            "   [2.43627747e+02 2.14918533e+02 1.36984711e+02]\n",
            "   [2.34234573e+02 2.03142731e+02 1.22117119e+02]\n",
            "   [2.35969513e+02 2.00326691e+02 1.21255150e+02]]]\n",
            "\n",
            "\n",
            " [[[1.55857147e+02 9.58571472e+01 4.38571396e+01]\n",
            "   [1.64596939e+02 1.04714287e+02 5.71683693e+01]\n",
            "   [1.74918365e+02 1.16346939e+02 7.22857132e+01]\n",
            "   ...\n",
            "   [1.82142807e+02 7.85000229e+01 6.21428146e+01]\n",
            "   [1.74403030e+02 8.27398224e+01 5.96428680e+01]\n",
            "   [1.68403030e+02 9.04184189e+01 6.27041016e+01]]\n",
            "\n",
            "  [[1.45331635e+02 8.24744873e+01 2.84744892e+01]\n",
            "   [1.47484695e+02 8.45561218e+01 3.07704048e+01]\n",
            "   [1.53642853e+02 9.21581650e+01 4.12295914e+01]\n",
            "   ...\n",
            "   [1.73183594e+02 7.62804871e+01 5.75967903e+01]\n",
            "   [1.58066299e+02 6.63520660e+01 4.32806244e+01]\n",
            "   [1.59928741e+02 7.92859192e+01 5.22859230e+01]]\n",
            "\n",
            "  [[1.47076538e+02 8.06479568e+01 2.04336739e+01]\n",
            "   [1.42397949e+02 7.63979568e+01 1.61836720e+01]\n",
            "   [1.38979584e+02 7.43622513e+01 1.58877563e+01]\n",
            "   ...\n",
            "   [1.74816177e+02 9.67906570e+01 7.15763245e+01]\n",
            "   [1.69352020e+02 9.42244949e+01 6.55101929e+01]\n",
            "   [1.60061005e+02 8.89845657e+01 5.89845314e+01]]\n",
            "\n",
            "  ...\n",
            "\n",
            "  [[1.74352066e+02 9.83520737e+01 4.63520699e+01]\n",
            "   [1.70214279e+02 9.42142868e+01 4.22142868e+01]\n",
            "   [1.73382675e+02 9.71683960e+01 4.47398224e+01]\n",
            "   ...\n",
            "   [1.60000000e+02 9.37857361e+01 3.64285278e+01]\n",
            "   [1.59785736e+02 9.37857361e+01 3.57857361e+01]\n",
            "   [1.69632645e+02 1.00632645e+02 4.36326447e+01]]\n",
            "\n",
            "  [[1.72954056e+02 9.69540558e+01 4.49540634e+01]\n",
            "   [1.69989792e+02 9.39897919e+01 4.19897957e+01]\n",
            "   [1.73413269e+02 9.71989746e+01 4.47704048e+01]\n",
            "   ...\n",
            "   [1.59158127e+02 9.29438629e+01 3.55866585e+01]\n",
            "   [1.58209229e+02 9.22092209e+01 3.42092209e+01]\n",
            "   [1.69714447e+02 1.00714447e+02 4.37144470e+01]]\n",
            "\n",
            "  [[1.70428574e+02 9.44285736e+01 4.24285698e+01]\n",
            "   [1.72045959e+02 9.60459518e+01 4.40459518e+01]\n",
            "   [1.73785721e+02 9.75714264e+01 4.51428566e+01]\n",
            "   ...\n",
            "   [1.58010117e+02 9.17958527e+01 3.44386444e+01]\n",
            "   [1.58045929e+02 9.20459213e+01 3.40459251e+01]\n",
            "   [1.65714355e+02 9.67143555e+01 3.97143555e+01]]]], shape=(32, 224, 224, 3), dtype=float32) tf.Tensor(\n",
            "[[1. 0. 0. 0. 0. 0. 0. 0. 0. 0.]\n",
            " [0. 0. 0. 0. 0. 0. 0. 0. 1. 0.]\n",
            " [1. 0. 0. 0. 0. 0. 0. 0. 0. 0.]\n",
            " [0. 1. 0. 0. 0. 0. 0. 0. 0. 0.]\n",
            " [0. 0. 0. 0. 0. 0. 0. 0. 1. 0.]\n",
            " [0. 0. 1. 0. 0. 0. 0. 0. 0. 0.]\n",
            " [0. 1. 0. 0. 0. 0. 0. 0. 0. 0.]\n",
            " [0. 0. 0. 0. 0. 0. 1. 0. 0. 0.]\n",
            " [0. 0. 1. 0. 0. 0. 0. 0. 0. 0.]\n",
            " [0. 0. 0. 0. 0. 0. 0. 0. 0. 1.]\n",
            " [0. 0. 1. 0. 0. 0. 0. 0. 0. 0.]\n",
            " [0. 0. 0. 0. 0. 0. 1. 0. 0. 0.]\n",
            " [0. 0. 0. 0. 1. 0. 0. 0. 0. 0.]\n",
            " [0. 0. 0. 0. 0. 0. 0. 0. 0. 1.]\n",
            " [1. 0. 0. 0. 0. 0. 0. 0. 0. 0.]\n",
            " [0. 1. 0. 0. 0. 0. 0. 0. 0. 0.]\n",
            " [0. 0. 0. 0. 0. 0. 0. 0. 1. 0.]\n",
            " [0. 0. 0. 0. 0. 1. 0. 0. 0. 0.]\n",
            " [0. 0. 0. 0. 0. 0. 1. 0. 0. 0.]\n",
            " [0. 0. 0. 1. 0. 0. 0. 0. 0. 0.]\n",
            " [0. 0. 0. 0. 0. 0. 0. 0. 0. 1.]\n",
            " [0. 0. 0. 0. 0. 0. 0. 1. 0. 0.]\n",
            " [0. 0. 1. 0. 0. 0. 0. 0. 0. 0.]\n",
            " [0. 0. 0. 0. 0. 0. 0. 0. 1. 0.]\n",
            " [0. 0. 0. 0. 0. 1. 0. 0. 0. 0.]\n",
            " [0. 0. 0. 0. 0. 1. 0. 0. 0. 0.]\n",
            " [0. 0. 1. 0. 0. 0. 0. 0. 0. 0.]\n",
            " [0. 0. 0. 0. 0. 0. 1. 0. 0. 0.]\n",
            " [1. 0. 0. 0. 0. 0. 0. 0. 0. 0.]\n",
            " [0. 0. 0. 1. 0. 0. 0. 0. 0. 0.]\n",
            " [0. 0. 0. 0. 0. 0. 0. 0. 1. 0.]\n",
            " [0. 0. 0. 0. 0. 0. 0. 0. 1. 0.]], shape=(32, 10), dtype=float32)\n"
          ]
        }
      ]
    },
    {
      "cell_type": "markdown",
      "source": [
        "### Creating model with `tf.keras.applications`"
      ],
      "metadata": {
        "id": "7Fd9_a55pK3d"
      }
    },
    {
      "cell_type": "code",
      "source": [
        "# from tf.keras.applications import MobileV3Small\n",
        "\n",
        "base_model = tf.keras.applications.MobileNetV3Small(\n",
        "    weights='imagenet',\n",
        "    input_shape=IMAGE_SIZE+(3,),\n",
        "    include_top=False,\n",
        "    include_preprocessing = True\n",
        ")\n",
        "\n",
        "base_model.trainable = False\n",
        "\n",
        "inputs = tf.keras.layers.Input(shape=(224, 224, 3), name = 'input_layer')\n",
        "\n",
        "x = base_model(inputs)\n",
        "\n",
        "x = tf.keras.layers.GlobalAveragePooling2D(name='global_average_pooling_layer')(x) #returns (batch_size, channels)\n",
        "\n",
        "outputs = tf.keras.layers.Dense(10, activation = 'softmax', name = 'output_layer')(x) # trains on batch_size requires (batch_size, features)\n",
        "\n",
        "model_0 = tf.keras.Model(inputs, outputs)\n",
        "\n",
        "model_0.compile(loss='categorical_crossentropy',\n",
        "                optimizer=tf.keras.optimizers.Adam(),\n",
        "                metrics=['accuracy'])\n",
        "\n",
        "history_0 = model_0.fit(x = train_data_10_percent,\n",
        "                        validation_data=test_data,\n",
        "                        epochs=5)"
      ],
      "metadata": {
        "colab": {
          "base_uri": "https://localhost:8080/"
        },
        "id": "15MuylDpqFOw",
        "outputId": "2476479f-f869-456e-88d2-41aa373f53db"
      },
      "execution_count": 29,
      "outputs": [
        {
          "output_type": "stream",
          "name": "stdout",
          "text": [
            "Epoch 1/5\n",
            "\u001b[1m24/24\u001b[0m \u001b[32m━━━━━━━━━━━━━━━━━━━━\u001b[0m\u001b[37m\u001b[0m \u001b[1m49s\u001b[0m 2s/step - accuracy: 0.1223 - loss: 2.7049 - val_accuracy: 0.2796 - val_loss: 2.0568\n",
            "Epoch 2/5\n",
            "\u001b[1m24/24\u001b[0m \u001b[32m━━━━━━━━━━━━━━━━━━━━\u001b[0m\u001b[37m\u001b[0m \u001b[1m90s\u001b[0m 2s/step - accuracy: 0.3685 - loss: 1.9162 - val_accuracy: 0.5164 - val_loss: 1.5434\n",
            "Epoch 3/5\n",
            "\u001b[1m24/24\u001b[0m \u001b[32m━━━━━━━━━━━━━━━━━━━━\u001b[0m\u001b[37m\u001b[0m \u001b[1m71s\u001b[0m 2s/step - accuracy: 0.5787 - loss: 1.4092 - val_accuracy: 0.6356 - val_loss: 1.2568\n",
            "Epoch 4/5\n",
            "\u001b[1m24/24\u001b[0m \u001b[32m━━━━━━━━━━━━━━━━━━━━\u001b[0m\u001b[37m\u001b[0m \u001b[1m41s\u001b[0m 2s/step - accuracy: 0.6948 - loss: 1.1362 - val_accuracy: 0.6988 - val_loss: 1.0817\n",
            "Epoch 5/5\n",
            "\u001b[1m24/24\u001b[0m \u001b[32m━━━━━━━━━━━━━━━━━━━━\u001b[0m\u001b[37m\u001b[0m \u001b[1m81s\u001b[0m 2s/step - accuracy: 0.7510 - loss: 0.9366 - val_accuracy: 0.7360 - val_loss: 0.9677\n"
          ]
        }
      ]
    },
    {
      "cell_type": "code",
      "source": [],
      "metadata": {
        "id": "vux7Ip1ixAZN"
      },
      "execution_count": null,
      "outputs": []
    }
  ]
}