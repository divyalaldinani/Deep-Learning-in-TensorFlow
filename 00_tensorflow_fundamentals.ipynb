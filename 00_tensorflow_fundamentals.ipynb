{
  "nbformat": 4,
  "nbformat_minor": 0,
  "metadata": {
    "colab": {
      "provenance": [],
      "toc_visible": true,
      "gpuType": "T4",
      "authorship_tag": "ABX9TyMs/DpY61g1hy75zlTs/NQG",
      "include_colab_link": true
    },
    "kernelspec": {
      "name": "python3",
      "display_name": "Python 3"
    },
    "language_info": {
      "name": "python"
    },
    "accelerator": "GPU"
  },
  "cells": [
    {
      "cell_type": "markdown",
      "metadata": {
        "id": "view-in-github",
        "colab_type": "text"
      },
      "source": [
        "<a href=\"https://colab.research.google.com/github/divyalaldinani/Deep-Learning-in-TensorFlow/blob/main/00_tensorflow_fundamentals.ipynb\" target=\"_parent\"><img src=\"https://colab.research.google.com/assets/colab-badge.svg\" alt=\"Open In Colab\"/></a>"
      ]
    },
    {
      "cell_type": "code",
      "execution_count": 1,
      "metadata": {
        "id": "GXAMAwnfnbWe",
        "colab": {
          "base_uri": "https://localhost:8080/"
        },
        "outputId": "134139ca-853c-484c-fb19-faca1d38af5d"
      },
      "outputs": [
        {
          "output_type": "stream",
          "name": "stdout",
          "text": [
            "2.17.1\n"
          ]
        }
      ],
      "source": [
        "import tensorflow as tf\n",
        "print(tf.__version__)"
      ]
    },
    {
      "cell_type": "markdown",
      "source": [
        "## tf.constant"
      ],
      "metadata": {
        "id": "MdJRSV6mse-2"
      }
    },
    {
      "cell_type": "code",
      "source": [
        "scalar = tf.constant(7) #to create a constant/immutable tensor\n",
        "scalar"
      ],
      "metadata": {
        "colab": {
          "base_uri": "https://localhost:8080/"
        },
        "id": "yRQGlAmyohda",
        "outputId": "7ad8cbd6-b33f-4d6e-a657-b5eb72f56943"
      },
      "execution_count": 2,
      "outputs": [
        {
          "output_type": "execute_result",
          "data": {
            "text/plain": [
              "<tf.Tensor: shape=(), dtype=int32, numpy=7>"
            ]
          },
          "metadata": {},
          "execution_count": 2
        }
      ]
    },
    {
      "cell_type": "code",
      "source": [
        "vector = tf.constant([10, 10])\n",
        "vector"
      ],
      "metadata": {
        "colab": {
          "base_uri": "https://localhost:8080/"
        },
        "id": "POPxF2lCowoJ",
        "outputId": "ff57fa7d-0f66-4b37-c033-4be8ae9828b4"
      },
      "execution_count": 3,
      "outputs": [
        {
          "output_type": "execute_result",
          "data": {
            "text/plain": [
              "<tf.Tensor: shape=(2,), dtype=int32, numpy=array([10, 10], dtype=int32)>"
            ]
          },
          "metadata": {},
          "execution_count": 3
        }
      ]
    },
    {
      "cell_type": "code",
      "source": [
        "vector = tf.constant([10, 10], dtype = 'float32')\n",
        "vector"
      ],
      "metadata": {
        "colab": {
          "base_uri": "https://localhost:8080/"
        },
        "id": "KZAIu9smpGVV",
        "outputId": "29fcbb56-8261-4000-8787-93f1bb62bb55"
      },
      "execution_count": 4,
      "outputs": [
        {
          "output_type": "execute_result",
          "data": {
            "text/plain": [
              "<tf.Tensor: shape=(2,), dtype=float32, numpy=array([10., 10.], dtype=float32)>"
            ]
          },
          "metadata": {},
          "execution_count": 4
        }
      ]
    },
    {
      "cell_type": "code",
      "source": [
        "vector.ndim"
      ],
      "metadata": {
        "colab": {
          "base_uri": "https://localhost:8080/"
        },
        "id": "F39zmXPopLAa",
        "outputId": "00566225-4c29-4864-f730-cf9a00b8d71c"
      },
      "execution_count": 5,
      "outputs": [
        {
          "output_type": "execute_result",
          "data": {
            "text/plain": [
              "1"
            ]
          },
          "metadata": {},
          "execution_count": 5
        }
      ]
    },
    {
      "cell_type": "code",
      "source": [
        "matrix =tf.constant([[10.0, 10.1],[10.98, 10.6]])"
      ],
      "metadata": {
        "id": "B1q_D5TYpRCe"
      },
      "execution_count": 6,
      "outputs": []
    },
    {
      "cell_type": "code",
      "source": [
        "matrix"
      ],
      "metadata": {
        "colab": {
          "base_uri": "https://localhost:8080/"
        },
        "id": "yY5wEYCFpbNN",
        "outputId": "10701f45-bc84-48e7-b28a-dbb102150acb"
      },
      "execution_count": 7,
      "outputs": [
        {
          "output_type": "execute_result",
          "data": {
            "text/plain": [
              "<tf.Tensor: shape=(2, 2), dtype=float32, numpy=\n",
              "array([[10.  , 10.1 ],\n",
              "       [10.98, 10.6 ]], dtype=float32)>"
            ]
          },
          "metadata": {},
          "execution_count": 7
        }
      ]
    },
    {
      "cell_type": "code",
      "source": [
        "print(matrix.ndim) #number of elements in shape\n",
        "print(matrix.shape)\n",
        "print(matrix.dtype)"
      ],
      "metadata": {
        "colab": {
          "base_uri": "https://localhost:8080/"
        },
        "id": "z5rquNiipm8D",
        "outputId": "f2fbbbaa-c554-417f-fbdc-b6e48e7b6426"
      },
      "execution_count": 8,
      "outputs": [
        {
          "output_type": "stream",
          "name": "stdout",
          "text": [
            "2\n",
            "(2, 2)\n",
            "<dtype: 'float32'>\n"
          ]
        }
      ]
    },
    {
      "cell_type": "code",
      "source": [
        "tensor = tf.constant([[[1,2,3], #dim = number of square brackets opening in the start\n",
        "                       [4,5,6]],\n",
        "                      [[7, 8, 9],\n",
        "                       [10, 11, 12]]])\n",
        "tensor"
      ],
      "metadata": {
        "colab": {
          "base_uri": "https://localhost:8080/"
        },
        "id": "xMJhB56Hpt-p",
        "outputId": "d7da3e24-2f5b-49a6-f15c-bbac4e2533c9"
      },
      "execution_count": 9,
      "outputs": [
        {
          "output_type": "execute_result",
          "data": {
            "text/plain": [
              "<tf.Tensor: shape=(2, 2, 3), dtype=int32, numpy=\n",
              "array([[[ 1,  2,  3],\n",
              "        [ 4,  5,  6]],\n",
              "\n",
              "       [[ 7,  8,  9],\n",
              "        [10, 11, 12]]], dtype=int32)>"
            ]
          },
          "metadata": {},
          "execution_count": 9
        }
      ]
    },
    {
      "cell_type": "markdown",
      "source": [
        "##tf.Variable()"
      ],
      "metadata": {
        "id": "z0OIB1GUq_gT"
      }
    },
    {
      "cell_type": "code",
      "source": [
        "variable_tensor = tf.Variable([10, 7])\n",
        "constant_tensor = tf.constant([10, 9])"
      ],
      "metadata": {
        "id": "9nG8YosQq-Et"
      },
      "execution_count": 10,
      "outputs": []
    },
    {
      "cell_type": "code",
      "source": [
        "variable_tensor, constant_tensor"
      ],
      "metadata": {
        "colab": {
          "base_uri": "https://localhost:8080/"
        },
        "id": "S9_CbLT8q9I1",
        "outputId": "a7a907ab-0249-47e8-bfd1-d7059e82dc41"
      },
      "execution_count": 11,
      "outputs": [
        {
          "output_type": "execute_result",
          "data": {
            "text/plain": [
              "(<tf.Variable 'Variable:0' shape=(2,) dtype=int32, numpy=array([10,  7], dtype=int32)>,\n",
              " <tf.Tensor: shape=(2,), dtype=int32, numpy=array([10,  9], dtype=int32)>)"
            ]
          },
          "metadata": {},
          "execution_count": 11
        }
      ]
    },
    {
      "cell_type": "code",
      "source": [
        "variable_tensor[0]"
      ],
      "metadata": {
        "colab": {
          "base_uri": "https://localhost:8080/"
        },
        "id": "fAx1qaVXrd-M",
        "outputId": "413759fc-e5e4-4f45-b21f-b917aa7abaf4"
      },
      "execution_count": 12,
      "outputs": [
        {
          "output_type": "execute_result",
          "data": {
            "text/plain": [
              "<tf.Tensor: shape=(), dtype=int32, numpy=10>"
            ]
          },
          "metadata": {},
          "execution_count": 12
        }
      ]
    },
    {
      "cell_type": "code",
      "source": [
        "# variable_tensor[0] = 8 # ERROR\n",
        "variable_tensor[0].assign(8)"
      ],
      "metadata": {
        "colab": {
          "base_uri": "https://localhost:8080/"
        },
        "id": "d_VK6LINr5br",
        "outputId": "fb805dbb-ecc1-4974-8750-caa7febcd5dc"
      },
      "execution_count": 13,
      "outputs": [
        {
          "output_type": "execute_result",
          "data": {
            "text/plain": [
              "<tf.Variable 'UnreadVariable' shape=(2,) dtype=int32, numpy=array([8, 7], dtype=int32)>"
            ]
          },
          "metadata": {},
          "execution_count": 13
        }
      ]
    },
    {
      "cell_type": "code",
      "source": [
        "# constant_tensor[0].assign[12] #ERROR"
      ],
      "metadata": {
        "id": "R4QQXu-8r7J9"
      },
      "execution_count": 14,
      "outputs": []
    },
    {
      "cell_type": "markdown",
      "source": [
        "## Creating random tensors (arbitrary size with random numbers)"
      ],
      "metadata": {
        "id": "52pATkUEs4qW"
      }
    },
    {
      "cell_type": "code",
      "source": [
        "#follows uniform distribution\n",
        "tf.random.set_seed(42) #ensures that the same random numbers are generated every time the code is run\n",
        "random_1 = tf.random.uniform(shape=(3, 2, 4))\n",
        "random_3 = tf.random.uniform(shape=(3, 2, 4))\n"
      ],
      "metadata": {
        "id": "5_IOidN9s5Vd"
      },
      "execution_count": 15,
      "outputs": []
    },
    {
      "cell_type": "code",
      "source": [
        "random_1, random_3"
      ],
      "metadata": {
        "colab": {
          "base_uri": "https://localhost:8080/"
        },
        "id": "B0AD-fcPt5aQ",
        "outputId": "680cd22b-edc6-4e34-f40c-bae261c2a121"
      },
      "execution_count": 16,
      "outputs": [
        {
          "output_type": "execute_result",
          "data": {
            "text/plain": [
              "(<tf.Tensor: shape=(3, 2, 4), dtype=float32, numpy=\n",
              " array([[[0.6645621 , 0.44100678, 0.3528825 , 0.46448255],\n",
              "         [0.03366041, 0.68467236, 0.74011743, 0.8724445 ]],\n",
              " \n",
              "        [[0.22632635, 0.22319686, 0.3103881 , 0.7223358 ],\n",
              "         [0.13318717, 0.5480639 , 0.5746088 , 0.8996835 ]],\n",
              " \n",
              "        [[0.00946367, 0.5212307 , 0.6345445 , 0.1993283 ],\n",
              "         [0.72942245, 0.54583454, 0.10756552, 0.6767061 ]]], dtype=float32)>,\n",
              " <tf.Tensor: shape=(3, 2, 4), dtype=float32, numpy=\n",
              " array([[[0.68789124, 0.48447883, 0.9309944 , 0.252187  ],\n",
              "         [0.73115396, 0.89256823, 0.94674826, 0.7493341 ]],\n",
              " \n",
              "        [[0.34925628, 0.54718256, 0.26160395, 0.69734323],\n",
              "         [0.11962581, 0.53484344, 0.7148968 , 0.87501776]],\n",
              " \n",
              "        [[0.33967495, 0.17377627, 0.4418521 , 0.9008261 ],\n",
              "         [0.13803864, 0.12217975, 0.5754491 , 0.9417181 ]]], dtype=float32)>)"
            ]
          },
          "metadata": {},
          "execution_count": 16
        }
      ]
    },
    {
      "cell_type": "code",
      "source": [
        "random_2 = tf.random.Generator.from_seed(42)\n",
        "random_2 = random_2.normal(shape=(3,2, 4))\n",
        "random_2"
      ],
      "metadata": {
        "colab": {
          "base_uri": "https://localhost:8080/"
        },
        "id": "pDhi8_Ngt82E",
        "outputId": "71f91c67-f6bc-47ca-cdfd-67f2970ad60d"
      },
      "execution_count": 17,
      "outputs": [
        {
          "output_type": "execute_result",
          "data": {
            "text/plain": [
              "<tf.Tensor: shape=(3, 2, 4), dtype=float32, numpy=\n",
              "array([[[-0.7565803 , -0.06854702,  0.07595026, -1.2573844 ],\n",
              "        [-0.23193765, -1.8107855 ,  0.09988727, -0.50998646]],\n",
              "\n",
              "       [[-0.7535806 , -0.5716629 ,  0.1480774 , -0.23362991],\n",
              "        [-0.3522796 ,  0.40621266, -1.0523509 ,  1.2054597 ]],\n",
              "\n",
              "       [[ 1.6874489 , -0.44629744, -2.3410842 ,  0.99009085],\n",
              "        [-0.08763231, -0.635568  , -0.6161736 , -1.9441465 ]]],\n",
              "      dtype=float32)>"
            ]
          },
          "metadata": {},
          "execution_count": 17
        }
      ]
    },
    {
      "cell_type": "code",
      "source": [
        "random_1 == random_3"
      ],
      "metadata": {
        "colab": {
          "base_uri": "https://localhost:8080/"
        },
        "id": "x5I-LtOfvr7F",
        "outputId": "55453ec1-7d37-434e-aead-64c675cbf7b4"
      },
      "execution_count": 18,
      "outputs": [
        {
          "output_type": "execute_result",
          "data": {
            "text/plain": [
              "<tf.Tensor: shape=(3, 2, 4), dtype=bool, numpy=\n",
              "array([[[False, False, False, False],\n",
              "        [False, False, False, False]],\n",
              "\n",
              "       [[False, False, False, False],\n",
              "        [False, False, False, False]],\n",
              "\n",
              "       [[False, False, False, False],\n",
              "        [False, False, False, False]]])>"
            ]
          },
          "metadata": {},
          "execution_count": 18
        }
      ]
    },
    {
      "cell_type": "markdown",
      "source": [
        "##shuffle the tensor"
      ],
      "metadata": {
        "id": "9ODSfCffwydh"
      }
    },
    {
      "cell_type": "code",
      "source": [
        "tensor = tf.constant([[10, 8],[9,4],[6,5]])\n",
        "tensor"
      ],
      "metadata": {
        "colab": {
          "base_uri": "https://localhost:8080/"
        },
        "id": "cGyfpGCCwxjU",
        "outputId": "76110d72-745d-428e-95b6-7152bf16f8b4"
      },
      "execution_count": 19,
      "outputs": [
        {
          "output_type": "execute_result",
          "data": {
            "text/plain": [
              "<tf.Tensor: shape=(3, 2), dtype=int32, numpy=\n",
              "array([[10,  8],\n",
              "       [ 9,  4],\n",
              "       [ 6,  5]], dtype=int32)>"
            ]
          },
          "metadata": {},
          "execution_count": 19
        }
      ]
    },
    {
      "cell_type": "code",
      "source": [
        "tf.random.set_seed(42)\n",
        "shuffled_tensor = tf.random.shuffle(tensor) #shuffles along 1st dim\n",
        "#set both global and operational level seed to get 100% reproducibility\n",
        "shuffled_tensor"
      ],
      "metadata": {
        "colab": {
          "base_uri": "https://localhost:8080/"
        },
        "id": "GBkj_VO8w9oo",
        "outputId": "de1dc496-bd61-43e8-b90f-af197674fc1a"
      },
      "execution_count": 20,
      "outputs": [
        {
          "output_type": "execute_result",
          "data": {
            "text/plain": [
              "<tf.Tensor: shape=(3, 2), dtype=int32, numpy=\n",
              "array([[ 9,  4],\n",
              "       [ 6,  5],\n",
              "       [10,  8]], dtype=int32)>"
            ]
          },
          "metadata": {},
          "execution_count": 20
        }
      ]
    },
    {
      "cell_type": "markdown",
      "source": [
        "## Other ways to make tensors"
      ],
      "metadata": {
        "id": "xBNjvs8uy3K-"
      }
    },
    {
      "cell_type": "code",
      "source": [
        "tf.ones((2,4,5))"
      ],
      "metadata": {
        "colab": {
          "base_uri": "https://localhost:8080/"
        },
        "id": "OnSY0Uu6zGAF",
        "outputId": "21aa074f-45b3-4d7a-e5ba-887673e1f22b"
      },
      "execution_count": 21,
      "outputs": [
        {
          "output_type": "execute_result",
          "data": {
            "text/plain": [
              "<tf.Tensor: shape=(2, 4, 5), dtype=float32, numpy=\n",
              "array([[[1., 1., 1., 1., 1.],\n",
              "        [1., 1., 1., 1., 1.],\n",
              "        [1., 1., 1., 1., 1.],\n",
              "        [1., 1., 1., 1., 1.]],\n",
              "\n",
              "       [[1., 1., 1., 1., 1.],\n",
              "        [1., 1., 1., 1., 1.],\n",
              "        [1., 1., 1., 1., 1.],\n",
              "        [1., 1., 1., 1., 1.]]], dtype=float32)>"
            ]
          },
          "metadata": {},
          "execution_count": 21
        }
      ]
    },
    {
      "cell_type": "code",
      "source": [
        "tf.zeros((2, 3, 2))"
      ],
      "metadata": {
        "colab": {
          "base_uri": "https://localhost:8080/"
        },
        "id": "frS4INLvzamm",
        "outputId": "b794f369-df8b-4420-ac5f-735bb7351694"
      },
      "execution_count": 22,
      "outputs": [
        {
          "output_type": "execute_result",
          "data": {
            "text/plain": [
              "<tf.Tensor: shape=(2, 3, 2), dtype=float32, numpy=\n",
              "array([[[0., 0.],\n",
              "        [0., 0.],\n",
              "        [0., 0.]],\n",
              "\n",
              "       [[0., 0.],\n",
              "        [0., 0.],\n",
              "        [0., 0.]]], dtype=float32)>"
            ]
          },
          "metadata": {},
          "execution_count": 22
        }
      ]
    },
    {
      "cell_type": "markdown",
      "source": [
        "## tensors attributes\n",
        "\n"
      ],
      "metadata": {
        "id": "Quv6HP5uzq8g"
      }
    },
    {
      "cell_type": "code",
      "source": [
        "tensor.shape"
      ],
      "metadata": {
        "colab": {
          "base_uri": "https://localhost:8080/"
        },
        "id": "c9XvmAS5zoxz",
        "outputId": "3bd293eb-35f6-45f4-bcfb-df9dbd05af6a"
      },
      "execution_count": 23,
      "outputs": [
        {
          "output_type": "execute_result",
          "data": {
            "text/plain": [
              "TensorShape([3, 2])"
            ]
          },
          "metadata": {},
          "execution_count": 23
        }
      ]
    },
    {
      "cell_type": "code",
      "source": [
        "tf.size(tensor)"
      ],
      "metadata": {
        "colab": {
          "base_uri": "https://localhost:8080/"
        },
        "id": "OaoD41cu0bDt",
        "outputId": "d830bd3d-ac8c-40f5-ba26-1accd9b97206"
      },
      "execution_count": 24,
      "outputs": [
        {
          "output_type": "execute_result",
          "data": {
            "text/plain": [
              "<tf.Tensor: shape=(), dtype=int32, numpy=6>"
            ]
          },
          "metadata": {},
          "execution_count": 24
        }
      ]
    },
    {
      "cell_type": "code",
      "source": [
        "tensor"
      ],
      "metadata": {
        "colab": {
          "base_uri": "https://localhost:8080/"
        },
        "id": "3ViDfdJG0I5Q",
        "outputId": "f09be1d9-41dd-462c-8e1d-a297659ae7d7"
      },
      "execution_count": 25,
      "outputs": [
        {
          "output_type": "execute_result",
          "data": {
            "text/plain": [
              "<tf.Tensor: shape=(3, 2), dtype=int32, numpy=\n",
              "array([[10,  8],\n",
              "       [ 9,  4],\n",
              "       [ 6,  5]], dtype=int32)>"
            ]
          },
          "metadata": {},
          "execution_count": 25
        }
      ]
    },
    {
      "cell_type": "code",
      "source": [
        "tensor.ndim #rank"
      ],
      "metadata": {
        "colab": {
          "base_uri": "https://localhost:8080/"
        },
        "id": "AqWsZ1sr0osU",
        "outputId": "dbf21001-bad6-4afc-d6a3-e699e1efcd8e"
      },
      "execution_count": 26,
      "outputs": [
        {
          "output_type": "execute_result",
          "data": {
            "text/plain": [
              "2"
            ]
          },
          "metadata": {},
          "execution_count": 26
        }
      ]
    },
    {
      "cell_type": "code",
      "source": [
        "print(tensor[0])"
      ],
      "metadata": {
        "colab": {
          "base_uri": "https://localhost:8080/"
        },
        "id": "WycLj1Rg0QIt",
        "outputId": "b0cc9394-ede1-4077-9585-43c5b8efa45f"
      },
      "execution_count": 27,
      "outputs": [
        {
          "output_type": "stream",
          "name": "stdout",
          "text": [
            "tf.Tensor([10  8], shape=(2,), dtype=int32)\n"
          ]
        }
      ]
    },
    {
      "cell_type": "code",
      "source": [
        "tensor.dtype"
      ],
      "metadata": {
        "colab": {
          "base_uri": "https://localhost:8080/"
        },
        "id": "3wCnULsy0WOn",
        "outputId": "5aed6d23-a2a3-4e82-f83f-e111181d907e"
      },
      "execution_count": 28,
      "outputs": [
        {
          "output_type": "execute_result",
          "data": {
            "text/plain": [
              "tf.int32"
            ]
          },
          "metadata": {},
          "execution_count": 28
        }
      ]
    },
    {
      "cell_type": "code",
      "source": [],
      "metadata": {
        "id": "mU3On1Dt0yD0"
      },
      "execution_count": 28,
      "outputs": []
    },
    {
      "cell_type": "markdown",
      "source": [
        "## manipulating tensors(tensor operations)\n",
        "**Basic Operations:** +, -, *, /"
      ],
      "metadata": {
        "id": "64NRzgPn1DBs"
      }
    },
    {
      "cell_type": "code",
      "source": [
        "tensor  = tf.random.uniform(shape=(3,4,3), minval = 1, maxval = 17, dtype = 'int32')\n"
      ],
      "metadata": {
        "id": "_XDd9mL41EvF"
      },
      "execution_count": 29,
      "outputs": []
    },
    {
      "cell_type": "code",
      "source": [
        "tensor.dtype"
      ],
      "metadata": {
        "colab": {
          "base_uri": "https://localhost:8080/"
        },
        "id": "p-s78nLq1xl7",
        "outputId": "61bb2914-102f-4eaf-9828-f0989a3e7ab7"
      },
      "execution_count": 30,
      "outputs": [
        {
          "output_type": "execute_result",
          "data": {
            "text/plain": [
              "tf.int32"
            ]
          },
          "metadata": {},
          "execution_count": 30
        }
      ]
    },
    {
      "cell_type": "code",
      "source": [
        "tensor"
      ],
      "metadata": {
        "colab": {
          "base_uri": "https://localhost:8080/"
        },
        "id": "F7AQzV6K12ml",
        "outputId": "87474bd3-bb77-46b2-d325-57a050759b6a"
      },
      "execution_count": 31,
      "outputs": [
        {
          "output_type": "execute_result",
          "data": {
            "text/plain": [
              "<tf.Tensor: shape=(3, 4, 3), dtype=int32, numpy=\n",
              "array([[[ 3,  8,  4],\n",
              "        [11,  5, 14],\n",
              "        [13, 15, 15],\n",
              "        [ 5, 14, 12]],\n",
              "\n",
              "       [[ 7,  1, 14],\n",
              "        [ 6,  9, 14],\n",
              "        [13,  6,  1],\n",
              "        [ 7,  2,  9]],\n",
              "\n",
              "       [[11,  7, 14],\n",
              "        [ 8,  9,  5],\n",
              "        [11, 10, 14],\n",
              "        [ 2,  4,  8]]], dtype=int32)>"
            ]
          },
          "metadata": {},
          "execution_count": 31
        }
      ]
    },
    {
      "cell_type": "code",
      "source": [
        "tensor + 10"
      ],
      "metadata": {
        "colab": {
          "base_uri": "https://localhost:8080/"
        },
        "id": "cQ_43YLc13fB",
        "outputId": "c4b69b6a-bc2f-421c-d56a-4b7399073a60"
      },
      "execution_count": 32,
      "outputs": [
        {
          "output_type": "execute_result",
          "data": {
            "text/plain": [
              "<tf.Tensor: shape=(3, 4, 3), dtype=int32, numpy=\n",
              "array([[[13, 18, 14],\n",
              "        [21, 15, 24],\n",
              "        [23, 25, 25],\n",
              "        [15, 24, 22]],\n",
              "\n",
              "       [[17, 11, 24],\n",
              "        [16, 19, 24],\n",
              "        [23, 16, 11],\n",
              "        [17, 12, 19]],\n",
              "\n",
              "       [[21, 17, 24],\n",
              "        [18, 19, 15],\n",
              "        [21, 20, 24],\n",
              "        [12, 14, 18]]], dtype=int32)>"
            ]
          },
          "metadata": {},
          "execution_count": 32
        }
      ]
    },
    {
      "cell_type": "code",
      "source": [
        "tensor * 2"
      ],
      "metadata": {
        "colab": {
          "base_uri": "https://localhost:8080/"
        },
        "id": "VkV3depB17CT",
        "outputId": "57ec2513-1f0c-4202-faff-ae2e390bd981"
      },
      "execution_count": 33,
      "outputs": [
        {
          "output_type": "execute_result",
          "data": {
            "text/plain": [
              "<tf.Tensor: shape=(3, 4, 3), dtype=int32, numpy=\n",
              "array([[[ 6, 16,  8],\n",
              "        [22, 10, 28],\n",
              "        [26, 30, 30],\n",
              "        [10, 28, 24]],\n",
              "\n",
              "       [[14,  2, 28],\n",
              "        [12, 18, 28],\n",
              "        [26, 12,  2],\n",
              "        [14,  4, 18]],\n",
              "\n",
              "       [[22, 14, 28],\n",
              "        [16, 18, 10],\n",
              "        [22, 20, 28],\n",
              "        [ 4,  8, 16]]], dtype=int32)>"
            ]
          },
          "metadata": {},
          "execution_count": 33
        }
      ]
    },
    {
      "cell_type": "code",
      "source": [
        "tensor #original tensor remains unchanged"
      ],
      "metadata": {
        "colab": {
          "base_uri": "https://localhost:8080/"
        },
        "id": "AwZH9Mvt18MG",
        "outputId": "9b50b131-c698-4669-8723-494b816d9f15"
      },
      "execution_count": 34,
      "outputs": [
        {
          "output_type": "execute_result",
          "data": {
            "text/plain": [
              "<tf.Tensor: shape=(3, 4, 3), dtype=int32, numpy=\n",
              "array([[[ 3,  8,  4],\n",
              "        [11,  5, 14],\n",
              "        [13, 15, 15],\n",
              "        [ 5, 14, 12]],\n",
              "\n",
              "       [[ 7,  1, 14],\n",
              "        [ 6,  9, 14],\n",
              "        [13,  6,  1],\n",
              "        [ 7,  2,  9]],\n",
              "\n",
              "       [[11,  7, 14],\n",
              "        [ 8,  9,  5],\n",
              "        [11, 10, 14],\n",
              "        [ 2,  4,  8]]], dtype=int32)>"
            ]
          },
          "metadata": {},
          "execution_count": 34
        }
      ]
    },
    {
      "cell_type": "code",
      "source": [
        "tensor/10"
      ],
      "metadata": {
        "colab": {
          "base_uri": "https://localhost:8080/"
        },
        "id": "tPYj4w2i2ANV",
        "outputId": "7361add1-49f2-4d2e-cb2d-07d57eeef2ca"
      },
      "execution_count": 35,
      "outputs": [
        {
          "output_type": "execute_result",
          "data": {
            "text/plain": [
              "<tf.Tensor: shape=(3, 4, 3), dtype=float64, numpy=\n",
              "array([[[0.3, 0.8, 0.4],\n",
              "        [1.1, 0.5, 1.4],\n",
              "        [1.3, 1.5, 1.5],\n",
              "        [0.5, 1.4, 1.2]],\n",
              "\n",
              "       [[0.7, 0.1, 1.4],\n",
              "        [0.6, 0.9, 1.4],\n",
              "        [1.3, 0.6, 0.1],\n",
              "        [0.7, 0.2, 0.9]],\n",
              "\n",
              "       [[1.1, 0.7, 1.4],\n",
              "        [0.8, 0.9, 0.5],\n",
              "        [1.1, 1. , 1.4],\n",
              "        [0.2, 0.4, 0.8]]])>"
            ]
          },
          "metadata": {},
          "execution_count": 35
        }
      ]
    },
    {
      "cell_type": "markdown",
      "source": [
        "###using inbuilt tf functions"
      ],
      "metadata": {
        "id": "PACXYKDz2N_s"
      }
    },
    {
      "cell_type": "code",
      "source": [
        "tf.multiply(tensor, 10)"
      ],
      "metadata": {
        "colab": {
          "base_uri": "https://localhost:8080/"
        },
        "id": "oMGtfATz2WJP",
        "outputId": "52b6e74b-b746-48e6-ecac-24da61838653"
      },
      "execution_count": 36,
      "outputs": [
        {
          "output_type": "execute_result",
          "data": {
            "text/plain": [
              "<tf.Tensor: shape=(3, 4, 3), dtype=int32, numpy=\n",
              "array([[[ 30,  80,  40],\n",
              "        [110,  50, 140],\n",
              "        [130, 150, 150],\n",
              "        [ 50, 140, 120]],\n",
              "\n",
              "       [[ 70,  10, 140],\n",
              "        [ 60,  90, 140],\n",
              "        [130,  60,  10],\n",
              "        [ 70,  20,  90]],\n",
              "\n",
              "       [[110,  70, 140],\n",
              "        [ 80,  90,  50],\n",
              "        [110, 100, 140],\n",
              "        [ 20,  40,  80]]], dtype=int32)>"
            ]
          },
          "metadata": {},
          "execution_count": 36
        }
      ]
    },
    {
      "cell_type": "code",
      "source": [
        "tensor #org tensor -> unchanged"
      ],
      "metadata": {
        "colab": {
          "base_uri": "https://localhost:8080/"
        },
        "id": "xQGKT4X-2ZzG",
        "outputId": "b90252ee-b8dd-416c-9681-2a3fc4039525"
      },
      "execution_count": 37,
      "outputs": [
        {
          "output_type": "execute_result",
          "data": {
            "text/plain": [
              "<tf.Tensor: shape=(3, 4, 3), dtype=int32, numpy=\n",
              "array([[[ 3,  8,  4],\n",
              "        [11,  5, 14],\n",
              "        [13, 15, 15],\n",
              "        [ 5, 14, 12]],\n",
              "\n",
              "       [[ 7,  1, 14],\n",
              "        [ 6,  9, 14],\n",
              "        [13,  6,  1],\n",
              "        [ 7,  2,  9]],\n",
              "\n",
              "       [[11,  7, 14],\n",
              "        [ 8,  9,  5],\n",
              "        [11, 10, 14],\n",
              "        [ 2,  4,  8]]], dtype=int32)>"
            ]
          },
          "metadata": {},
          "execution_count": 37
        }
      ]
    },
    {
      "cell_type": "code",
      "source": [
        "tf.add(tensor, -9)"
      ],
      "metadata": {
        "colab": {
          "base_uri": "https://localhost:8080/"
        },
        "id": "hTtuT-F82cYf",
        "outputId": "68790dd8-64be-402a-dbb4-00563d3bd0d9"
      },
      "execution_count": 38,
      "outputs": [
        {
          "output_type": "execute_result",
          "data": {
            "text/plain": [
              "<tf.Tensor: shape=(3, 4, 3), dtype=int32, numpy=\n",
              "array([[[-6, -1, -5],\n",
              "        [ 2, -4,  5],\n",
              "        [ 4,  6,  6],\n",
              "        [-4,  5,  3]],\n",
              "\n",
              "       [[-2, -8,  5],\n",
              "        [-3,  0,  5],\n",
              "        [ 4, -3, -8],\n",
              "        [-2, -7,  0]],\n",
              "\n",
              "       [[ 2, -2,  5],\n",
              "        [-1,  0, -4],\n",
              "        [ 2,  1,  5],\n",
              "        [-7, -5, -1]]], dtype=int32)>"
            ]
          },
          "metadata": {},
          "execution_count": 38
        }
      ]
    },
    {
      "cell_type": "code",
      "source": [
        "tf.divide(tensor, 5)"
      ],
      "metadata": {
        "colab": {
          "base_uri": "https://localhost:8080/"
        },
        "id": "_uDZzpMU2pv9",
        "outputId": "9e124f62-a277-4126-d914-57c1da78b97a"
      },
      "execution_count": 39,
      "outputs": [
        {
          "output_type": "execute_result",
          "data": {
            "text/plain": [
              "<tf.Tensor: shape=(3, 4, 3), dtype=float64, numpy=\n",
              "array([[[0.6, 1.6, 0.8],\n",
              "        [2.2, 1. , 2.8],\n",
              "        [2.6, 3. , 3. ],\n",
              "        [1. , 2.8, 2.4]],\n",
              "\n",
              "       [[1.4, 0.2, 2.8],\n",
              "        [1.2, 1.8, 2.8],\n",
              "        [2.6, 1.2, 0.2],\n",
              "        [1.4, 0.4, 1.8]],\n",
              "\n",
              "       [[2.2, 1.4, 2.8],\n",
              "        [1.6, 1.8, 1. ],\n",
              "        [2.2, 2. , 2.8],\n",
              "        [0.4, 0.8, 1.6]]])>"
            ]
          },
          "metadata": {},
          "execution_count": 39
        }
      ]
    },
    {
      "cell_type": "markdown",
      "source": [
        "## Matrix Multiplication"
      ],
      "metadata": {
        "id": "Hbabo8sA2vXo"
      }
    },
    {
      "cell_type": "code",
      "source": [
        "a = tf.random.uniform(shape=(3,4), minval = 1, maxval = 20, dtype = 'int32')\n",
        "b = tf.random.uniform(shape=(4,5), minval = 1, maxval = 20, dtype = 'int32')"
      ],
      "metadata": {
        "id": "TYmaKmNK2xIV"
      },
      "execution_count": 40,
      "outputs": []
    },
    {
      "cell_type": "code",
      "source": [
        "a"
      ],
      "metadata": {
        "colab": {
          "base_uri": "https://localhost:8080/"
        },
        "id": "7zxoslQIA775",
        "outputId": "befc6a83-5b1c-4b28-ae60-c5a923c9fa09"
      },
      "execution_count": 41,
      "outputs": [
        {
          "output_type": "execute_result",
          "data": {
            "text/plain": [
              "<tf.Tensor: shape=(3, 4), dtype=int32, numpy=\n",
              "array([[16,  6, 11, 12],\n",
              "       [18, 17, 12,  3],\n",
              "       [ 1,  9,  7, 19]], dtype=int32)>"
            ]
          },
          "metadata": {},
          "execution_count": 41
        }
      ]
    },
    {
      "cell_type": "code",
      "source": [
        "b"
      ],
      "metadata": {
        "colab": {
          "base_uri": "https://localhost:8080/"
        },
        "id": "IWsOdt5HBBdH",
        "outputId": "70f02432-49ba-4198-c727-5ebf202af7c9"
      },
      "execution_count": 42,
      "outputs": [
        {
          "output_type": "execute_result",
          "data": {
            "text/plain": [
              "<tf.Tensor: shape=(4, 5), dtype=int32, numpy=\n",
              "array([[18,  6, 17, 19, 13],\n",
              "       [ 2, 15,  5,  9,  9],\n",
              "       [17,  1,  6, 12,  6],\n",
              "       [14,  7, 13,  3,  6]], dtype=int32)>"
            ]
          },
          "metadata": {},
          "execution_count": 42
        }
      ]
    },
    {
      "cell_type": "code",
      "source": [
        "# c = tf.matmul(a, b)\n",
        "c = a @ b"
      ],
      "metadata": {
        "id": "PaIilxezBBwF"
      },
      "execution_count": 43,
      "outputs": []
    },
    {
      "cell_type": "code",
      "source": [
        "c"
      ],
      "metadata": {
        "colab": {
          "base_uri": "https://localhost:8080/"
        },
        "id": "nU4idxI2BFO4",
        "outputId": "983a773f-c2ff-4801-f063-d79ccdb5f376"
      },
      "execution_count": 44,
      "outputs": [
        {
          "output_type": "execute_result",
          "data": {
            "text/plain": [
              "<tf.Tensor: shape=(3, 5), dtype=int32, numpy=\n",
              "array([[655, 281, 524, 526, 400],\n",
              "       [604, 396, 502, 648, 477],\n",
              "       [421, 281, 351, 241, 250]], dtype=int32)>"
            ]
          },
          "metadata": {},
          "execution_count": 44
        }
      ]
    },
    {
      "cell_type": "code",
      "source": [
        "c = tf.matmul(a, b) #must be compatible"
      ],
      "metadata": {
        "id": "ckSmJYoRCNOi"
      },
      "execution_count": 45,
      "outputs": []
    },
    {
      "cell_type": "code",
      "source": [
        "c"
      ],
      "metadata": {
        "colab": {
          "base_uri": "https://localhost:8080/"
        },
        "id": "mcH6419aCQni",
        "outputId": "4c34903b-0382-430a-c327-765e95cd2aae"
      },
      "execution_count": 46,
      "outputs": [
        {
          "output_type": "execute_result",
          "data": {
            "text/plain": [
              "<tf.Tensor: shape=(3, 5), dtype=int32, numpy=\n",
              "array([[655, 281, 524, 526, 400],\n",
              "       [604, 396, 502, 648, 477],\n",
              "       [421, 281, 351, 241, 250]], dtype=int32)>"
            ]
          },
          "metadata": {},
          "execution_count": 46
        }
      ]
    },
    {
      "cell_type": "code",
      "source": [
        "X = tf.constant([[1,2,4],[2,5,6]])\n",
        "X"
      ],
      "metadata": {
        "colab": {
          "base_uri": "https://localhost:8080/"
        },
        "id": "NvaH4cSvBsZS",
        "outputId": "2814e395-54ae-4784-a2ea-dfef4f97803c"
      },
      "execution_count": 47,
      "outputs": [
        {
          "output_type": "execute_result",
          "data": {
            "text/plain": [
              "<tf.Tensor: shape=(2, 3), dtype=int32, numpy=\n",
              "array([[1, 2, 4],\n",
              "       [2, 5, 6]], dtype=int32)>"
            ]
          },
          "metadata": {},
          "execution_count": 47
        }
      ]
    },
    {
      "cell_type": "code",
      "source": [
        "a = tf.random.uniform(shape=(3,4,5), minval = 1, maxval = 20, dtype = 'int32')\n",
        "b = tf.random.uniform(shape=(3,5,6), minval = 1, maxval = 20, dtype = 'int32')"
      ],
      "metadata": {
        "id": "7_EH42luB-np"
      },
      "execution_count": 48,
      "outputs": []
    },
    {
      "cell_type": "code",
      "source": [
        "c = a @ b"
      ],
      "metadata": {
        "id": "uRfCkEYgCoU1"
      },
      "execution_count": 49,
      "outputs": []
    },
    {
      "cell_type": "code",
      "source": [
        "c"
      ],
      "metadata": {
        "colab": {
          "base_uri": "https://localhost:8080/"
        },
        "id": "JPoFu_hJCqbE",
        "outputId": "baec0964-d131-4f42-c42e-091ef2ee3a50"
      },
      "execution_count": 50,
      "outputs": [
        {
          "output_type": "execute_result",
          "data": {
            "text/plain": [
              "<tf.Tensor: shape=(3, 4, 6), dtype=int32, numpy=\n",
              "array([[[406, 293, 499, 420, 394, 505],\n",
              "        [249, 339, 453, 306, 377, 427],\n",
              "        [197, 257, 475, 306, 321, 305],\n",
              "        [517, 443, 677, 500, 500, 686]],\n",
              "\n",
              "       [[487, 299, 342, 337, 417, 467],\n",
              "        [684, 470, 534, 576, 700, 743],\n",
              "        [733, 423, 533, 541, 672, 712],\n",
              "        [581, 423, 453, 202, 305, 627]],\n",
              "\n",
              "       [[520, 558, 162, 642, 523, 485],\n",
              "        [396, 394, 120, 501, 378, 395],\n",
              "        [621, 670, 372, 644, 530, 358],\n",
              "        [618, 602, 288, 628, 569, 467]]], dtype=int32)>"
            ]
          },
          "metadata": {},
          "execution_count": 50
        }
      ]
    },
    {
      "cell_type": "code",
      "source": [
        "c.shape"
      ],
      "metadata": {
        "colab": {
          "base_uri": "https://localhost:8080/"
        },
        "id": "bef_ASGxDO1U",
        "outputId": "fbf8b43b-f1b0-407b-81eb-6fab9d7bf973"
      },
      "execution_count": 51,
      "outputs": [
        {
          "output_type": "execute_result",
          "data": {
            "text/plain": [
              "TensorShape([3, 4, 6])"
            ]
          },
          "metadata": {},
          "execution_count": 51
        }
      ]
    },
    {
      "cell_type": "markdown",
      "source": [
        "**Tensor with ndim = 3\n",
        "Dim of A = (d1, d2, d3)\n",
        "Dim of B = (d1, d3, d4), Resulting shape = (d1, d2, d4)**\n",
        "\n",
        "\n",
        "**Tensor with ndim = 4\n",
        "Dim of A = (d1, d2, d3, d4)\n",
        "Dim of B = (d1, d2, d4, d5), Resulting shape = (d1, d2, d3, d5)**"
      ],
      "metadata": {
        "id": "YLjXsJFQEAgj"
      }
    },
    {
      "cell_type": "markdown",
      "source": [
        "##Changing shape of tensors after creation"
      ],
      "metadata": {
        "id": "IcnWLP1OHYYF"
      }
    },
    {
      "cell_type": "code",
      "source": [
        "tf.reshape(c, shape = (6,6,2)) #no of elems iniotially = number of elems finally"
      ],
      "metadata": {
        "colab": {
          "base_uri": "https://localhost:8080/"
        },
        "id": "CmwSl0VBEEQ-",
        "outputId": "9e451934-8240-4629-89e5-760217b43c6d"
      },
      "execution_count": 52,
      "outputs": [
        {
          "output_type": "execute_result",
          "data": {
            "text/plain": [
              "<tf.Tensor: shape=(6, 6, 2), dtype=int32, numpy=\n",
              "array([[[406, 293],\n",
              "        [499, 420],\n",
              "        [394, 505],\n",
              "        [249, 339],\n",
              "        [453, 306],\n",
              "        [377, 427]],\n",
              "\n",
              "       [[197, 257],\n",
              "        [475, 306],\n",
              "        [321, 305],\n",
              "        [517, 443],\n",
              "        [677, 500],\n",
              "        [500, 686]],\n",
              "\n",
              "       [[487, 299],\n",
              "        [342, 337],\n",
              "        [417, 467],\n",
              "        [684, 470],\n",
              "        [534, 576],\n",
              "        [700, 743]],\n",
              "\n",
              "       [[733, 423],\n",
              "        [533, 541],\n",
              "        [672, 712],\n",
              "        [581, 423],\n",
              "        [453, 202],\n",
              "        [305, 627]],\n",
              "\n",
              "       [[520, 558],\n",
              "        [162, 642],\n",
              "        [523, 485],\n",
              "        [396, 394],\n",
              "        [120, 501],\n",
              "        [378, 395]],\n",
              "\n",
              "       [[621, 670],\n",
              "        [372, 644],\n",
              "        [530, 358],\n",
              "        [618, 602],\n",
              "        [288, 628],\n",
              "        [569, 467]]], dtype=int32)>"
            ]
          },
          "metadata": {},
          "execution_count": 52
        }
      ]
    },
    {
      "cell_type": "code",
      "source": [
        "tensor = tf.constant([[ 3,  8,  4],\n",
        "        [11,  5, 14],\n",
        "        [13, 15, 15],\n",
        "        [ 5, 14, 12]])"
      ],
      "metadata": {
        "id": "XIzpP113FFjZ"
      },
      "execution_count": 53,
      "outputs": []
    },
    {
      "cell_type": "code",
      "source": [
        "tf.transpose(tensor)"
      ],
      "metadata": {
        "colab": {
          "base_uri": "https://localhost:8080/"
        },
        "id": "bdyg-gikF6U7",
        "outputId": "7a2cc200-32ea-4287-8b17-45c50fe8439b"
      },
      "execution_count": 54,
      "outputs": [
        {
          "output_type": "execute_result",
          "data": {
            "text/plain": [
              "<tf.Tensor: shape=(3, 4), dtype=int32, numpy=\n",
              "array([[ 3, 11, 13,  5],\n",
              "       [ 8,  5, 15, 14],\n",
              "       [ 4, 14, 15, 12]], dtype=int32)>"
            ]
          },
          "metadata": {},
          "execution_count": 54
        }
      ]
    },
    {
      "cell_type": "code",
      "source": [
        "a, tf.transpose(a, perm=[2,0,1]) #reorder the axes -> initially it was 0,1,2"
      ],
      "metadata": {
        "colab": {
          "base_uri": "https://localhost:8080/"
        },
        "id": "7wbxQF9KGV0h",
        "outputId": "ae6aabf4-429f-4af6-e9c0-5c26d88b156b"
      },
      "execution_count": 55,
      "outputs": [
        {
          "output_type": "execute_result",
          "data": {
            "text/plain": [
              "(<tf.Tensor: shape=(3, 4, 5), dtype=int32, numpy=\n",
              " array([[[11, 11,  7,  5, 14],\n",
              "         [ 2, 14,  5, 12, 10],\n",
              "         [ 3,  7,  3, 10, 17],\n",
              "         [ 9, 16, 12, 14, 15]],\n",
              " \n",
              "        [[ 7,  4, 10,  8,  9],\n",
              "         [ 9,  1, 18, 12, 19],\n",
              "         [15,  1, 19,  7, 17],\n",
              "         [ 2, 15, 18,  1,  6]],\n",
              " \n",
              "        [[15,  7,  3, 17,  4],\n",
              "         [12,  1,  3, 15,  3],\n",
              "         [ 1,  4, 13, 17, 13],\n",
              "         [ 9,  3, 13, 15,  8]]], dtype=int32)>,\n",
              " <tf.Tensor: shape=(5, 3, 4), dtype=int32, numpy=\n",
              " array([[[11,  2,  3,  9],\n",
              "         [ 7,  9, 15,  2],\n",
              "         [15, 12,  1,  9]],\n",
              " \n",
              "        [[11, 14,  7, 16],\n",
              "         [ 4,  1,  1, 15],\n",
              "         [ 7,  1,  4,  3]],\n",
              " \n",
              "        [[ 7,  5,  3, 12],\n",
              "         [10, 18, 19, 18],\n",
              "         [ 3,  3, 13, 13]],\n",
              " \n",
              "        [[ 5, 12, 10, 14],\n",
              "         [ 8, 12,  7,  1],\n",
              "         [17, 15, 17, 15]],\n",
              " \n",
              "        [[14, 10, 17, 15],\n",
              "         [ 9, 19, 17,  6],\n",
              "         [ 4,  3, 13,  8]]], dtype=int32)>)"
            ]
          },
          "metadata": {},
          "execution_count": 55
        }
      ]
    },
    {
      "cell_type": "markdown",
      "source": [
        "**Dot Product**"
      ],
      "metadata": {
        "id": "yULszkFmHmyD"
      }
    },
    {
      "cell_type": "code",
      "source": [
        "a = tf.random.uniform(shape=(3,4), minval = 1, maxval = 20, dtype = 'int32')\n",
        "b = tf.random.uniform(shape=(3,4), minval = 1, maxval = 20, dtype = 'int32')"
      ],
      "metadata": {
        "id": "YipH0qIxHoMF"
      },
      "execution_count": 56,
      "outputs": []
    },
    {
      "cell_type": "code",
      "source": [
        "c = tf.matmul(a, tf.transpose(b))"
      ],
      "metadata": {
        "id": "GbmdtNKeHvQA"
      },
      "execution_count": 57,
      "outputs": []
    },
    {
      "cell_type": "code",
      "source": [
        "c"
      ],
      "metadata": {
        "colab": {
          "base_uri": "https://localhost:8080/"
        },
        "id": "cja1UXXbIHLz",
        "outputId": "4cbdc915-e2c6-4328-9743-bf4b22b49d19"
      },
      "execution_count": 58,
      "outputs": [
        {
          "output_type": "execute_result",
          "data": {
            "text/plain": [
              "<tf.Tensor: shape=(3, 3), dtype=int32, numpy=\n",
              "array([[570, 510, 584],\n",
              "       [516, 368, 395],\n",
              "       [694, 741, 762]], dtype=int32)>"
            ]
          },
          "metadata": {},
          "execution_count": 58
        }
      ]
    },
    {
      "cell_type": "code",
      "source": [
        "c = tf.tensordot(a, tf.transpose(b), axes = 1)"
      ],
      "metadata": {
        "id": "WTQeBUgKGEu7"
      },
      "execution_count": 59,
      "outputs": []
    },
    {
      "cell_type": "code",
      "source": [
        "c"
      ],
      "metadata": {
        "colab": {
          "base_uri": "https://localhost:8080/"
        },
        "id": "f_HD64OkGE9x",
        "outputId": "0e232c80-0a3a-4f97-fcde-ba72ab838f49"
      },
      "execution_count": 60,
      "outputs": [
        {
          "output_type": "execute_result",
          "data": {
            "text/plain": [
              "<tf.Tensor: shape=(3, 3), dtype=int32, numpy=\n",
              "array([[570, 510, 584],\n",
              "       [516, 368, 395],\n",
              "       [694, 741, 762]], dtype=int32)>"
            ]
          },
          "metadata": {},
          "execution_count": 60
        }
      ]
    },
    {
      "cell_type": "code",
      "source": [
        "c = tf.matmul(a, tf.reshape(b, shape = (4,3)))"
      ],
      "metadata": {
        "id": "jwoMQrTWIHlN"
      },
      "execution_count": 61,
      "outputs": []
    },
    {
      "cell_type": "code",
      "source": [
        "c"
      ],
      "metadata": {
        "colab": {
          "base_uri": "https://localhost:8080/"
        },
        "id": "cHhWpKf1JTw-",
        "outputId": "0c41efea-5dff-41e6-eaf3-eada7b7189b0"
      },
      "execution_count": 62,
      "outputs": [
        {
          "output_type": "execute_result",
          "data": {
            "text/plain": [
              "<tf.Tensor: shape=(3, 3), dtype=int32, numpy=\n",
              "array([[408, 728, 474],\n",
              "       [334, 606, 348],\n",
              "       [533, 958, 661]], dtype=int32)>"
            ]
          },
          "metadata": {},
          "execution_count": 62
        }
      ]
    },
    {
      "cell_type": "markdown",
      "source": [
        "**Note**: **Matrix mult and dot product gives different ans**\n",
        "\n",
        "\n",
        "**reshape and transpose are diff**\n"
      ],
      "metadata": {
        "id": "34_EokKlJoH6"
      }
    },
    {
      "cell_type": "code",
      "source": [
        "A = tf.constant([1.9, 7.4])\n",
        "A"
      ],
      "metadata": {
        "colab": {
          "base_uri": "https://localhost:8080/"
        },
        "id": "2wjxrSi_Jp9D",
        "outputId": "63aaf35b-358b-4c11-f51e-48cf766b5f4f"
      },
      "execution_count": 63,
      "outputs": [
        {
          "output_type": "execute_result",
          "data": {
            "text/plain": [
              "<tf.Tensor: shape=(2,), dtype=float32, numpy=array([1.9, 7.4], dtype=float32)>"
            ]
          },
          "metadata": {},
          "execution_count": 63
        }
      ]
    },
    {
      "cell_type": "code",
      "source": [
        "A = tf.cast(A, dtype = tf.float16)"
      ],
      "metadata": {
        "id": "JWQbK0PUHGqa"
      },
      "execution_count": 64,
      "outputs": []
    },
    {
      "cell_type": "code",
      "source": [
        "A"
      ],
      "metadata": {
        "colab": {
          "base_uri": "https://localhost:8080/"
        },
        "id": "PQskiSwJHN32",
        "outputId": "80360d16-a566-434e-96f5-18cb186f6301"
      },
      "execution_count": 65,
      "outputs": [
        {
          "output_type": "execute_result",
          "data": {
            "text/plain": [
              "<tf.Tensor: shape=(2,), dtype=float16, numpy=array([1.9, 7.4], dtype=float16)>"
            ]
          },
          "metadata": {},
          "execution_count": 65
        }
      ]
    },
    {
      "cell_type": "code",
      "source": [
        "A = tf.constant([1, 8, 5])\n",
        "A = tf.cast(A, dtype = 'float16')"
      ],
      "metadata": {
        "id": "amhUQsFpHpCy"
      },
      "execution_count": 66,
      "outputs": []
    },
    {
      "cell_type": "code",
      "source": [
        "A"
      ],
      "metadata": {
        "colab": {
          "base_uri": "https://localhost:8080/"
        },
        "id": "2NtiNKbFIle-",
        "outputId": "7c929901-6ed6-4ea2-be2f-38175f3b1869"
      },
      "execution_count": 67,
      "outputs": [
        {
          "output_type": "execute_result",
          "data": {
            "text/plain": [
              "<tf.Tensor: shape=(3,), dtype=float16, numpy=array([1., 8., 5.], dtype=float16)>"
            ]
          },
          "metadata": {},
          "execution_count": 67
        }
      ]
    },
    {
      "cell_type": "markdown",
      "source": [
        "##tensor aggregation\n",
        "####Aggregating tensors means combining multiple tensors into a single tensor or performing an operation that summarizes their information. This can be achieved using operations like concatenation, stacking, summing, averaging, or reducing along specific dimensions."
      ],
      "metadata": {
        "id": "sT-ADqeSJDAd"
      }
    },
    {
      "cell_type": "code",
      "source": [
        "D = tf.constant([-7, -9, -5])\n",
        "D"
      ],
      "metadata": {
        "colab": {
          "base_uri": "https://localhost:8080/"
        },
        "id": "EbEixijDJG5J",
        "outputId": "19041186-8008-418d-8268-9f400747798e"
      },
      "execution_count": 68,
      "outputs": [
        {
          "output_type": "execute_result",
          "data": {
            "text/plain": [
              "<tf.Tensor: shape=(3,), dtype=int32, numpy=array([-7, -9, -5], dtype=int32)>"
            ]
          },
          "metadata": {},
          "execution_count": 68
        }
      ]
    },
    {
      "cell_type": "code",
      "source": [
        "tf.abs(D)"
      ],
      "metadata": {
        "colab": {
          "base_uri": "https://localhost:8080/"
        },
        "id": "gLDS-49xKRCv",
        "outputId": "2e4b534d-acc4-4691-b304-018151451b5f"
      },
      "execution_count": 69,
      "outputs": [
        {
          "output_type": "execute_result",
          "data": {
            "text/plain": [
              "<tf.Tensor: shape=(3,), dtype=int32, numpy=array([7, 9, 5], dtype=int32)>"
            ]
          },
          "metadata": {},
          "execution_count": 69
        }
      ]
    },
    {
      "cell_type": "code",
      "source": [
        "D = tf.cast(D, dtype = 'float32')"
      ],
      "metadata": {
        "id": "bMdev24lKSTo"
      },
      "execution_count": 70,
      "outputs": []
    },
    {
      "cell_type": "code",
      "source": [
        "D = tf.random.uniform(shape = (4, 8,4), minval = 0, maxval = 100)\n",
        "\n",
        "min = tf.reduce_min(D)\n",
        "max = tf.reduce_max(D)\n",
        "mean = tf.reduce_mean(D)\n",
        "avg = tf.reduce_sum(D)\n",
        "min, max, mean, avg"
      ],
      "metadata": {
        "colab": {
          "base_uri": "https://localhost:8080/"
        },
        "id": "dK_UOaPjKlay",
        "outputId": "62af9b44-76ef-48fb-d218-3d39a2170523"
      },
      "execution_count": 71,
      "outputs": [
        {
          "output_type": "execute_result",
          "data": {
            "text/plain": [
              "(<tf.Tensor: shape=(), dtype=float32, numpy=0.8735776>,\n",
              " <tf.Tensor: shape=(), dtype=float32, numpy=99.51719>,\n",
              " <tf.Tensor: shape=(), dtype=float32, numpy=51.689484>,\n",
              " <tf.Tensor: shape=(), dtype=float32, numpy=6616.254>)"
            ]
          },
          "metadata": {},
          "execution_count": 71
        }
      ]
    },
    {
      "cell_type": "code",
      "source": [
        "import numpy as np\n",
        "\n",
        "E = tf.constant(np.random.randint(0, 100, size = 45))\n"
      ],
      "metadata": {
        "id": "OwFNKwW3K-cc"
      },
      "execution_count": 72,
      "outputs": []
    },
    {
      "cell_type": "code",
      "source": [
        "\n",
        "min = tf.reduce_min(E)\n",
        "max = tf.reduce_max(E)\n",
        "mean = tf.reduce_mean(E)\n",
        "avg = tf.reduce_sum(E)\n",
        "min, max, mean, avg"
      ],
      "metadata": {
        "colab": {
          "base_uri": "https://localhost:8080/"
        },
        "id": "ToOcsVzgL13w",
        "outputId": "6462579b-62b0-41af-ee9b-812be4c4a406"
      },
      "execution_count": 73,
      "outputs": [
        {
          "output_type": "execute_result",
          "data": {
            "text/plain": [
              "(<tf.Tensor: shape=(), dtype=int64, numpy=2>,\n",
              " <tf.Tensor: shape=(), dtype=int64, numpy=97>,\n",
              " <tf.Tensor: shape=(), dtype=int64, numpy=41>,\n",
              " <tf.Tensor: shape=(), dtype=int64, numpy=1876>)"
            ]
          },
          "metadata": {},
          "execution_count": 73
        }
      ]
    },
    {
      "cell_type": "code",
      "source": [
        "var = tf.math.reduce_variance(D)\n",
        "std_dev = tf.math.reduce_std(D)\n",
        "var, std_dev"
      ],
      "metadata": {
        "colab": {
          "base_uri": "https://localhost:8080/"
        },
        "id": "8dm1CZ6yL6KF",
        "outputId": "47324da2-cfd2-4379-d574-7ce47c24e27f"
      },
      "execution_count": 74,
      "outputs": [
        {
          "output_type": "execute_result",
          "data": {
            "text/plain": [
              "(<tf.Tensor: shape=(), dtype=float32, numpy=884.36>,\n",
              " <tf.Tensor: shape=(), dtype=float32, numpy=29.73819>)"
            ]
          },
          "metadata": {},
          "execution_count": 74
        }
      ]
    },
    {
      "cell_type": "markdown",
      "source": [
        "###Importing tfp(tf prob.)"
      ],
      "metadata": {
        "id": "u4YjYfWLMy-r"
      }
    },
    {
      "cell_type": "code",
      "source": [
        "import tensorflow_probability as tfp\n",
        "\n",
        "tfp.stats.variance(D), tfp.stats.stddev(D)"
      ],
      "metadata": {
        "colab": {
          "base_uri": "https://localhost:8080/"
        },
        "id": "RR4QGpdJMSAp",
        "outputId": "fa489848-b63b-4736-f8cf-3e72e963a74a"
      },
      "execution_count": 75,
      "outputs": [
        {
          "output_type": "execute_result",
          "data": {
            "text/plain": [
              "(<tf.Tensor: shape=(8, 4), dtype=float32, numpy=\n",
              " array([[ 766.9315  ,  101.1458  ,  409.2265  ,  291.912   ],\n",
              "        [ 428.6458  , 1538.2792  ,  780.9971  ,   48.345398],\n",
              "        [ 737.2733  ,  994.10626 ,  346.36884 ,  708.4374  ],\n",
              "        [ 773.3486  , 1197.5247  ,  364.05737 ,  866.9276  ],\n",
              "        [ 474.99173 ,  619.7938  ,  352.97144 ,  504.25897 ],\n",
              "        [ 209.40121 ,  637.6605  ,  923.5344  , 1339.3877  ],\n",
              "        [ 302.76498 ,  831.16113 , 1119.1671  ,  285.5303  ],\n",
              "        [1088.4104  , 1012.91003 , 1153.9266  , 1414.6255  ]],\n",
              "       dtype=float32)>,\n",
              " <tf.Tensor: shape=(8, 4), dtype=float32, numpy=\n",
              " array([[27.69353  , 10.057127 , 20.229347 , 17.085432 ],\n",
              "        [20.703762 , 39.2209   , 27.946323 ,  6.9530854],\n",
              "        [27.152777 , 31.52945  , 18.610987 , 26.616488 ],\n",
              "        [27.809145 , 34.60527  , 19.080288 , 29.443634 ],\n",
              "        [21.794304 , 24.895658 , 18.787533 , 22.455711 ],\n",
              "        [14.470702 , 25.251942 , 30.38971  , 36.597645 ],\n",
              "        [17.400143 , 28.829865 , 33.453957 , 16.897642 ],\n",
              "        [32.991066 , 31.826248 , 33.969494 , 37.611507 ]], dtype=float32)>)"
            ]
          },
          "metadata": {},
          "execution_count": 75
        }
      ]
    },
    {
      "cell_type": "code",
      "source": [
        "tf.math.reduce_variance(tf.cast(E, dtype='float32'))"
      ],
      "metadata": {
        "colab": {
          "base_uri": "https://localhost:8080/"
        },
        "id": "_EbA1WjbM6_y",
        "outputId": "d413fdf9-ddb2-410b-ba1f-b25a639cd643"
      },
      "execution_count": 76,
      "outputs": [
        {
          "output_type": "execute_result",
          "data": {
            "text/plain": [
              "<tf.Tensor: shape=(), dtype=float32, numpy=700.2143>"
            ]
          },
          "metadata": {},
          "execution_count": 76
        }
      ]
    },
    {
      "cell_type": "code",
      "source": [
        "tf.math.reduce_std(tf.cast(E, dtype='float32'))"
      ],
      "metadata": {
        "colab": {
          "base_uri": "https://localhost:8080/"
        },
        "id": "PSqB8zwQNnRj",
        "outputId": "40fbabc9-3e38-482a-bfb3-66846212141e"
      },
      "execution_count": 77,
      "outputs": [
        {
          "output_type": "execute_result",
          "data": {
            "text/plain": [
              "<tf.Tensor: shape=(), dtype=float32, numpy=26.461563>"
            ]
          },
          "metadata": {},
          "execution_count": 77
        }
      ]
    },
    {
      "cell_type": "code",
      "source": [
        "tfp.stats.variance(tf.cast(E, dtype='float32'))"
      ],
      "metadata": {
        "colab": {
          "base_uri": "https://localhost:8080/"
        },
        "id": "v7I_JpWcNqyw",
        "outputId": "b373d155-683c-4908-a27a-47a1b318c7d0"
      },
      "execution_count": 78,
      "outputs": [
        {
          "output_type": "execute_result",
          "data": {
            "text/plain": [
              "<tf.Tensor: shape=(), dtype=float32, numpy=700.2143>"
            ]
          },
          "metadata": {},
          "execution_count": 78
        }
      ]
    },
    {
      "cell_type": "code",
      "source": [
        "tfp.stats.stddev(tf.cast(E, dtype='float32'))"
      ],
      "metadata": {
        "colab": {
          "base_uri": "https://localhost:8080/"
        },
        "id": "MBMjtQB2NtQ8",
        "outputId": "cddf5fe2-6800-400f-adeb-4e5a3bbb28f6"
      },
      "execution_count": 79,
      "outputs": [
        {
          "output_type": "execute_result",
          "data": {
            "text/plain": [
              "<tf.Tensor: shape=(), dtype=float32, numpy=26.461563>"
            ]
          },
          "metadata": {},
          "execution_count": 79
        }
      ]
    },
    {
      "cell_type": "code",
      "source": [],
      "metadata": {
        "id": "7QqXgSb-N0ox"
      },
      "execution_count": 79,
      "outputs": []
    },
    {
      "cell_type": "code",
      "source": [],
      "metadata": {
        "id": "5AHbNLaJOzX0"
      },
      "execution_count": 79,
      "outputs": []
    },
    {
      "cell_type": "markdown",
      "source": [
        "###Positional min and max of a tensor:\n",
        "####at which index does the max value occur\n",
        "\n",
        "---\n",
        "\n"
      ],
      "metadata": {
        "id": "jg_dYAevOzmZ"
      }
    },
    {
      "cell_type": "code",
      "source": [
        "# to get max/min value in a tensor along an axes\n",
        "F = tf.random.uniform(shape = (50,))\n",
        "F"
      ],
      "metadata": {
        "colab": {
          "base_uri": "https://localhost:8080/"
        },
        "id": "9eySV2AgO4cj",
        "outputId": "e09ba1ab-bef3-4334-a602-beeda52a5cb5"
      },
      "execution_count": 80,
      "outputs": [
        {
          "output_type": "execute_result",
          "data": {
            "text/plain": [
              "<tf.Tensor: shape=(50,), dtype=float32, numpy=\n",
              "array([1.27802730e-01, 8.62301230e-01, 4.15632963e-01, 1.00286722e-01,\n",
              "       6.07836485e-01, 7.90521741e-01, 6.06833696e-02, 8.56746435e-01,\n",
              "       7.20012665e-01, 6.80043340e-01, 3.18007350e-01, 9.15518522e-01,\n",
              "       9.83233213e-01, 9.49099660e-01, 9.27690983e-01, 4.26432252e-01,\n",
              "       1.65649414e-01, 5.96877337e-02, 1.01531982e-01, 3.48368764e-01,\n",
              "       1.06096268e-05, 5.53984642e-01, 1.04559660e-02, 1.70157075e-01,\n",
              "       5.35020947e-01, 3.53641510e-02, 5.11248112e-02, 3.47512603e-01,\n",
              "       4.17755604e-01, 4.66669559e-01, 9.22843099e-01, 6.48598909e-01,\n",
              "       3.84631276e-01, 7.53028631e-01, 9.17651892e-01, 5.70779085e-01,\n",
              "       9.69477892e-02, 4.58525062e-01, 2.72809863e-01, 7.18811393e-01,\n",
              "       6.84959650e-01, 9.46360826e-01, 6.96492195e-02, 1.22516274e-01,\n",
              "       5.67929626e-01, 6.14467025e-01, 2.55180240e-01, 7.69669652e-01,\n",
              "       3.94763947e-01, 6.69542074e-01], dtype=float32)>"
            ]
          },
          "metadata": {},
          "execution_count": 80
        }
      ]
    },
    {
      "cell_type": "code",
      "source": [
        "tf.argmax(F)"
      ],
      "metadata": {
        "colab": {
          "base_uri": "https://localhost:8080/"
        },
        "id": "SfBK_D6HQN2y",
        "outputId": "787c20de-2f6e-4f00-c6ec-ddff3ed61e15"
      },
      "execution_count": 81,
      "outputs": [
        {
          "output_type": "execute_result",
          "data": {
            "text/plain": [
              "<tf.Tensor: shape=(), dtype=int64, numpy=12>"
            ]
          },
          "metadata": {},
          "execution_count": 81
        }
      ]
    },
    {
      "cell_type": "code",
      "source": [
        "F[tf.argmax(F)]"
      ],
      "metadata": {
        "colab": {
          "base_uri": "https://localhost:8080/"
        },
        "id": "m3nzgGUTQfE5",
        "outputId": "a0b80947-6abf-42c4-ba4f-6ad747615949"
      },
      "execution_count": 82,
      "outputs": [
        {
          "output_type": "execute_result",
          "data": {
            "text/plain": [
              "<tf.Tensor: shape=(), dtype=float32, numpy=0.9832332>"
            ]
          },
          "metadata": {},
          "execution_count": 82
        }
      ]
    },
    {
      "cell_type": "code",
      "source": [
        "tf.reduce_max(F)"
      ],
      "metadata": {
        "colab": {
          "base_uri": "https://localhost:8080/"
        },
        "id": "9EK6N1VTQmMa",
        "outputId": "f0c95b7c-4f5f-4b96-ab5e-1b6be3d11516"
      },
      "execution_count": 83,
      "outputs": [
        {
          "output_type": "execute_result",
          "data": {
            "text/plain": [
              "<tf.Tensor: shape=(), dtype=float32, numpy=0.9832332>"
            ]
          },
          "metadata": {},
          "execution_count": 83
        }
      ]
    },
    {
      "cell_type": "code",
      "source": [
        "tf.argmin(F)"
      ],
      "metadata": {
        "colab": {
          "base_uri": "https://localhost:8080/"
        },
        "id": "ACWGw3oQQquK",
        "outputId": "1b88722c-2758-43e6-84ff-7da9597838b7"
      },
      "execution_count": 84,
      "outputs": [
        {
          "output_type": "execute_result",
          "data": {
            "text/plain": [
              "<tf.Tensor: shape=(), dtype=int64, numpy=20>"
            ]
          },
          "metadata": {},
          "execution_count": 84
        }
      ]
    },
    {
      "cell_type": "code",
      "source": [
        "F[tf.argmin(F)]"
      ],
      "metadata": {
        "colab": {
          "base_uri": "https://localhost:8080/"
        },
        "id": "LuOU_xg4Q9cU",
        "outputId": "f7df39c1-8e94-4f85-b987-dc6cbb41553f"
      },
      "execution_count": 85,
      "outputs": [
        {
          "output_type": "execute_result",
          "data": {
            "text/plain": [
              "<tf.Tensor: shape=(), dtype=float32, numpy=1.0609627e-05>"
            ]
          },
          "metadata": {},
          "execution_count": 85
        }
      ]
    },
    {
      "cell_type": "code",
      "source": [
        "tf.reduce_min(F)"
      ],
      "metadata": {
        "colab": {
          "base_uri": "https://localhost:8080/"
        },
        "id": "8GK3nPN6RAh5",
        "outputId": "b9a91787-10d4-467a-8c74-7c804cda62b4"
      },
      "execution_count": 86,
      "outputs": [
        {
          "output_type": "execute_result",
          "data": {
            "text/plain": [
              "<tf.Tensor: shape=(), dtype=float32, numpy=1.0609627e-05>"
            ]
          },
          "metadata": {},
          "execution_count": 86
        }
      ]
    },
    {
      "cell_type": "markdown",
      "source": [
        "### removing all single dims"
      ],
      "metadata": {
        "id": "vflsm1-1RLOW"
      }
    },
    {
      "cell_type": "code",
      "source": [
        "G = tf.constant(tf.random.uniform(shape=(50,)), shape = (2, 1, 25))"
      ],
      "metadata": {
        "id": "ax_oSaINROOm"
      },
      "execution_count": 87,
      "outputs": []
    },
    {
      "cell_type": "code",
      "source": [
        "G"
      ],
      "metadata": {
        "colab": {
          "base_uri": "https://localhost:8080/"
        },
        "id": "Ac5NKD-sRZj5",
        "outputId": "4e4eee79-68f6-4eb1-b9b3-28c2ea8c03b4"
      },
      "execution_count": 88,
      "outputs": [
        {
          "output_type": "execute_result",
          "data": {
            "text/plain": [
              "<tf.Tensor: shape=(2, 1, 25), dtype=float32, numpy=\n",
              "array([[[0.5749372 , 0.19900596, 0.7038239 , 0.05541027, 0.5884645 ,\n",
              "         0.5430788 , 0.9185413 , 0.37144518, 0.84554374, 0.9902985 ,\n",
              "         0.27800095, 0.5500362 , 0.43682623, 0.68426645, 0.22095895,\n",
              "         0.46595943, 0.2495377 , 0.36201143, 0.64489734, 0.02396476,\n",
              "         0.6864866 , 0.11819983, 0.9782574 , 0.5938797 , 0.09975135]],\n",
              "\n",
              "       [[0.8805319 , 0.5449954 , 0.4293872 , 0.3130728 , 0.3187188 ,\n",
              "         0.81566787, 0.41933835, 0.23228383, 0.6060114 , 0.821591  ,\n",
              "         0.8203496 , 0.7298629 , 0.10527313, 0.43954647, 0.33358395,\n",
              "         0.14798844, 0.2402767 , 0.23390472, 0.89162004, 0.31298292,\n",
              "         0.23591721, 0.05167186, 0.2891872 , 0.7042843 , 0.3477949 ]]],\n",
              "      dtype=float32)>"
            ]
          },
          "metadata": {},
          "execution_count": 88
        }
      ]
    },
    {
      "cell_type": "code",
      "source": [
        "G = tf.squeeze(G)\n",
        "G\n",
        "#removing dim of size 1 from tensor"
      ],
      "metadata": {
        "colab": {
          "base_uri": "https://localhost:8080/"
        },
        "id": "jDGWEj0JRhLo",
        "outputId": "405c3105-a8fe-4267-854f-a3b108f7714a"
      },
      "execution_count": 89,
      "outputs": [
        {
          "output_type": "execute_result",
          "data": {
            "text/plain": [
              "<tf.Tensor: shape=(2, 25), dtype=float32, numpy=\n",
              "array([[0.5749372 , 0.19900596, 0.7038239 , 0.05541027, 0.5884645 ,\n",
              "        0.5430788 , 0.9185413 , 0.37144518, 0.84554374, 0.9902985 ,\n",
              "        0.27800095, 0.5500362 , 0.43682623, 0.68426645, 0.22095895,\n",
              "        0.46595943, 0.2495377 , 0.36201143, 0.64489734, 0.02396476,\n",
              "        0.6864866 , 0.11819983, 0.9782574 , 0.5938797 , 0.09975135],\n",
              "       [0.8805319 , 0.5449954 , 0.4293872 , 0.3130728 , 0.3187188 ,\n",
              "        0.81566787, 0.41933835, 0.23228383, 0.6060114 , 0.821591  ,\n",
              "        0.8203496 , 0.7298629 , 0.10527313, 0.43954647, 0.33358395,\n",
              "        0.14798844, 0.2402767 , 0.23390472, 0.89162004, 0.31298292,\n",
              "        0.23591721, 0.05167186, 0.2891872 , 0.7042843 , 0.3477949 ]],\n",
              "      dtype=float32)>"
            ]
          },
          "metadata": {},
          "execution_count": 89
        }
      ]
    },
    {
      "cell_type": "markdown",
      "source": [
        "### one hot encoding: form of numerical encoding"
      ],
      "metadata": {
        "id": "Tw3ZK9tfSN7N"
      }
    },
    {
      "cell_type": "code",
      "source": [
        "list = [0,1,3,2]\n",
        "tf.one_hot(list, depth=4)  #produces 4*4 matrix"
      ],
      "metadata": {
        "colab": {
          "base_uri": "https://localhost:8080/"
        },
        "id": "HOZ02d9gSQDA",
        "outputId": "ce740093-a5c4-4824-d47e-634f6c082532"
      },
      "execution_count": 90,
      "outputs": [
        {
          "output_type": "execute_result",
          "data": {
            "text/plain": [
              "<tf.Tensor: shape=(4, 4), dtype=float32, numpy=\n",
              "array([[1., 0., 0., 0.],\n",
              "       [0., 1., 0., 0.],\n",
              "       [0., 0., 0., 1.],\n",
              "       [0., 0., 1., 0.]], dtype=float32)>"
            ]
          },
          "metadata": {},
          "execution_count": 90
        }
      ]
    },
    {
      "cell_type": "code",
      "source": [
        "tf.one_hot(list, depth=3)"
      ],
      "metadata": {
        "colab": {
          "base_uri": "https://localhost:8080/"
        },
        "id": "Lsefk8_bcczI",
        "outputId": "86ae0eb8-4cb8-4810-9253-397d6a5b5df4"
      },
      "execution_count": 91,
      "outputs": [
        {
          "output_type": "execute_result",
          "data": {
            "text/plain": [
              "<tf.Tensor: shape=(4, 3), dtype=float32, numpy=\n",
              "array([[1., 0., 0.],\n",
              "       [0., 1., 0.],\n",
              "       [0., 0., 0.],\n",
              "       [0., 0., 1.]], dtype=float32)>"
            ]
          },
          "metadata": {},
          "execution_count": 91
        }
      ]
    },
    {
      "cell_type": "code",
      "source": [
        "tf.one_hot(list, depth = 4, on_value = 'green', off_value='red') #   1 -> green, 0 -> red, notice the dtype"
      ],
      "metadata": {
        "colab": {
          "base_uri": "https://localhost:8080/"
        },
        "id": "FqxR62d3ck_x",
        "outputId": "c459a186-61db-46bb-ca39-df93a7d73d92"
      },
      "execution_count": 92,
      "outputs": [
        {
          "output_type": "execute_result",
          "data": {
            "text/plain": [
              "<tf.Tensor: shape=(4, 4), dtype=string, numpy=\n",
              "array([[b'green', b'red', b'red', b'red'],\n",
              "       [b'red', b'green', b'red', b'red'],\n",
              "       [b'red', b'red', b'red', b'green'],\n",
              "       [b'red', b'red', b'green', b'red']], dtype=object)>"
            ]
          },
          "metadata": {},
          "execution_count": 92
        }
      ]
    },
    {
      "cell_type": "markdown",
      "source": [
        "### few mathematical ops"
      ],
      "metadata": {
        "id": "bh4X_iq_dd5w"
      }
    },
    {
      "cell_type": "code",
      "source": [
        "H = tf.range(1, 10)\n",
        "H"
      ],
      "metadata": {
        "colab": {
          "base_uri": "https://localhost:8080/"
        },
        "id": "38aAH7UbdhCh",
        "outputId": "189cd58c-9634-43d9-ed2a-9b5df624b937"
      },
      "execution_count": 93,
      "outputs": [
        {
          "output_type": "execute_result",
          "data": {
            "text/plain": [
              "<tf.Tensor: shape=(9,), dtype=int32, numpy=array([1, 2, 3, 4, 5, 6, 7, 8, 9], dtype=int32)>"
            ]
          },
          "metadata": {},
          "execution_count": 93
        }
      ]
    },
    {
      "cell_type": "code",
      "source": [
        "I = tf.tensordot( H , H, axes = 0 )\n",
        "I"
      ],
      "metadata": {
        "colab": {
          "base_uri": "https://localhost:8080/"
        },
        "id": "HFlGm0FCdmZC",
        "outputId": "6bb83c81-780b-4c1d-9fc5-1b11afe068ea"
      },
      "execution_count": 94,
      "outputs": [
        {
          "output_type": "execute_result",
          "data": {
            "text/plain": [
              "<tf.Tensor: shape=(9, 9), dtype=int32, numpy=\n",
              "array([[ 1,  2,  3,  4,  5,  6,  7,  8,  9],\n",
              "       [ 2,  4,  6,  8, 10, 12, 14, 16, 18],\n",
              "       [ 3,  6,  9, 12, 15, 18, 21, 24, 27],\n",
              "       [ 4,  8, 12, 16, 20, 24, 28, 32, 36],\n",
              "       [ 5, 10, 15, 20, 25, 30, 35, 40, 45],\n",
              "       [ 6, 12, 18, 24, 30, 36, 42, 48, 54],\n",
              "       [ 7, 14, 21, 28, 35, 42, 49, 56, 63],\n",
              "       [ 8, 16, 24, 32, 40, 48, 56, 64, 72],\n",
              "       [ 9, 18, 27, 36, 45, 54, 63, 72, 81]], dtype=int32)>"
            ]
          },
          "metadata": {},
          "execution_count": 94
        }
      ]
    },
    {
      "cell_type": "code",
      "source": [
        "I = tf.square(H)\n",
        "I"
      ],
      "metadata": {
        "colab": {
          "base_uri": "https://localhost:8080/"
        },
        "id": "pDHCN1YidqDc",
        "outputId": "72812119-246e-42c1-af14-cb8f10f85e71"
      },
      "execution_count": 95,
      "outputs": [
        {
          "output_type": "execute_result",
          "data": {
            "text/plain": [
              "<tf.Tensor: shape=(9,), dtype=int32, numpy=array([ 1,  4,  9, 16, 25, 36, 49, 64, 81], dtype=int32)>"
            ]
          },
          "metadata": {},
          "execution_count": 95
        }
      ]
    },
    {
      "cell_type": "code",
      "source": [
        "tf.sqrt(tf.cast(H, dtype = 'float32'))  # matrix with data type : float, double"
      ],
      "metadata": {
        "colab": {
          "base_uri": "https://localhost:8080/"
        },
        "id": "_apsDIqmd_d8",
        "outputId": "f1afd886-b822-41dd-a8f7-229452f0abbe"
      },
      "execution_count": 96,
      "outputs": [
        {
          "output_type": "execute_result",
          "data": {
            "text/plain": [
              "<tf.Tensor: shape=(9,), dtype=float32, numpy=\n",
              "array([1.       , 1.4142135, 1.7320508, 2.       , 2.2360678, 2.4494896,\n",
              "       2.6457512, 2.828427 , 3.       ], dtype=float32)>"
            ]
          },
          "metadata": {},
          "execution_count": 96
        }
      ]
    },
    {
      "cell_type": "code",
      "source": [
        "tf.math.log(tf.cast(H, dtype = 'float32')) # float/doubel type matrix passed as arg"
      ],
      "metadata": {
        "colab": {
          "base_uri": "https://localhost:8080/"
        },
        "id": "RgkNBM7TeLcS",
        "outputId": "dde55737-1484-4f4c-acd5-130a14762880"
      },
      "execution_count": 97,
      "outputs": [
        {
          "output_type": "execute_result",
          "data": {
            "text/plain": [
              "<tf.Tensor: shape=(9,), dtype=float32, numpy=\n",
              "array([0.       , 0.6931472, 1.0986123, 1.3862944, 1.609438 , 1.7917595,\n",
              "       1.9459102, 2.0794415, 2.1972246], dtype=float32)>"
            ]
          },
          "metadata": {},
          "execution_count": 97
        }
      ]
    },
    {
      "cell_type": "markdown",
      "source": [
        "### Tensors and Numpy"
      ],
      "metadata": {
        "id": "qSpitCXRe0_P"
      }
    },
    {
      "cell_type": "code",
      "source": [
        "# numpy array to tensor\n",
        "J = tf.constant(np.array([3,9,13]))\n",
        "J"
      ],
      "metadata": {
        "colab": {
          "base_uri": "https://localhost:8080/"
        },
        "id": "laI-ayKMe3LX",
        "outputId": "6f33cc01-f7f1-4bea-9102-259649834d6d"
      },
      "execution_count": 98,
      "outputs": [
        {
          "output_type": "execute_result",
          "data": {
            "text/plain": [
              "<tf.Tensor: shape=(3,), dtype=int64, numpy=array([ 3,  9, 13])>"
            ]
          },
          "metadata": {},
          "execution_count": 98
        }
      ]
    },
    {
      "cell_type": "code",
      "source": [
        "np.array(J), type(np.array(J))"
      ],
      "metadata": {
        "colab": {
          "base_uri": "https://localhost:8080/"
        },
        "id": "PJxbapkWfnnA",
        "outputId": "724538cb-84ff-4a68-9148-ff8051659744"
      },
      "execution_count": 99,
      "outputs": [
        {
          "output_type": "execute_result",
          "data": {
            "text/plain": [
              "(array([ 3,  9, 13]), numpy.ndarray)"
            ]
          },
          "metadata": {},
          "execution_count": 99
        }
      ]
    },
    {
      "cell_type": "code",
      "source": [
        "# tensor to numpy array\n",
        "J.numpy(), type(J.numpy())"
      ],
      "metadata": {
        "colab": {
          "base_uri": "https://localhost:8080/"
        },
        "id": "IIFyoaKYfugJ",
        "outputId": "65a58904-6f3e-4c33-e0c3-7e12cc56d7b2"
      },
      "execution_count": 100,
      "outputs": [
        {
          "output_type": "execute_result",
          "data": {
            "text/plain": [
              "(array([ 3,  9, 13]), numpy.ndarray)"
            ]
          },
          "metadata": {},
          "execution_count": 100
        }
      ]
    },
    {
      "cell_type": "code",
      "source": [
        "# data type diff bw numpy tensor and tf tensor\n",
        "numpy_arr = tf.constant(np.array([3., 8., 2.]))\n",
        "tensor_arr = tf.constant([3., 8., 2.])\n",
        "numpy_arr.dtype, tensor_arr.dtype"
      ],
      "metadata": {
        "colab": {
          "base_uri": "https://localhost:8080/"
        },
        "id": "h4E8KAlJfz7z",
        "outputId": "d03b11b5-bb2f-4084-9aea-3fdf30d8cd36"
      },
      "execution_count": 101,
      "outputs": [
        {
          "output_type": "execute_result",
          "data": {
            "text/plain": [
              "(tf.float64, tf.float32)"
            ]
          },
          "metadata": {},
          "execution_count": 101
        }
      ]
    },
    {
      "cell_type": "markdown",
      "source": [
        "## finding access to GPUs"
      ],
      "metadata": {
        "id": "amVgzqAahx4s"
      }
    },
    {
      "cell_type": "code",
      "source": [
        "import tensorflow as tf\n",
        "tf.config.list_physical_devices(\"GPU\")"
      ],
      "metadata": {
        "colab": {
          "base_uri": "https://localhost:8080/"
        },
        "id": "zG2sValOh1JV",
        "outputId": "dfbdcbb0-451f-47fd-a6fb-741575a63626"
      },
      "execution_count": 102,
      "outputs": [
        {
          "output_type": "execute_result",
          "data": {
            "text/plain": [
              "[PhysicalDevice(name='/physical_device:GPU:0', device_type='GPU')]"
            ]
          },
          "metadata": {},
          "execution_count": 102
        }
      ]
    },
    {
      "cell_type": "code",
      "source": [
        "!nvidia-smi"
      ],
      "metadata": {
        "colab": {
          "base_uri": "https://localhost:8080/"
        },
        "id": "OmC2WBbkjaA3",
        "outputId": "06e9110c-0623-45a4-9649-18a452016243"
      },
      "execution_count": 103,
      "outputs": [
        {
          "output_type": "stream",
          "name": "stdout",
          "text": [
            "Sun Dec 15 06:39:06 2024       \n",
            "+---------------------------------------------------------------------------------------+\n",
            "| NVIDIA-SMI 535.104.05             Driver Version: 535.104.05   CUDA Version: 12.2     |\n",
            "|-----------------------------------------+----------------------+----------------------+\n",
            "| GPU  Name                 Persistence-M | Bus-Id        Disp.A | Volatile Uncorr. ECC |\n",
            "| Fan  Temp   Perf          Pwr:Usage/Cap |         Memory-Usage | GPU-Util  Compute M. |\n",
            "|                                         |                      |               MIG M. |\n",
            "|=========================================+======================+======================|\n",
            "|   0  Tesla T4                       Off | 00000000:00:04.0 Off |                    0 |\n",
            "| N/A   51C    P0              28W /  70W |    107MiB / 15360MiB |      0%      Default |\n",
            "|                                         |                      |                  N/A |\n",
            "+-----------------------------------------+----------------------+----------------------+\n",
            "                                                                                         \n",
            "+---------------------------------------------------------------------------------------+\n",
            "| Processes:                                                                            |\n",
            "|  GPU   GI   CI        PID   Type   Process name                            GPU Memory |\n",
            "|        ID   ID                                                             Usage      |\n",
            "|=======================================================================================|\n",
            "+---------------------------------------------------------------------------------------+\n"
          ]
        }
      ]
    },
    {
      "cell_type": "code",
      "source": [],
      "metadata": {
        "id": "yNCPcFIcjol_"
      },
      "execution_count": 103,
      "outputs": []
    }
  ]
}